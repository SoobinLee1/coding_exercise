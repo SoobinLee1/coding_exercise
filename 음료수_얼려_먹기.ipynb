{
  "nbformat": 4,
  "nbformat_minor": 0,
  "metadata": {
    "colab": {
      "name": "음료수 얼려 먹기",
      "provenance": [],
      "authorship_tag": "ABX9TyNB01o+J60Pc0eEBDOhICcw",
      "include_colab_link": true
    },
    "kernelspec": {
      "name": "python3",
      "display_name": "Python 3"
    }
  },
  "cells": [
    {
      "cell_type": "markdown",
      "metadata": {
        "id": "view-in-github",
        "colab_type": "text"
      },
      "source": [
        "<a href=\"https://colab.research.google.com/github/SoobinLee1/coding_exercise/blob/main/%EC%9D%8C%EB%A3%8C%EC%88%98_%EC%96%BC%EB%A0%A4_%EB%A8%B9%EA%B8%B0.ipynb\" target=\"_parent\"><img src=\"https://colab.research.google.com/assets/colab-badge.svg\" alt=\"Open In Colab\"/></a>"
      ]
    },
    {
      "cell_type": "markdown",
      "metadata": {
        "id": "BJ63mSMefFmN"
      },
      "source": [
        "n*m 크기의 얼음틀이 있습니다. 구멍이 뚤려있는 부분은 0, 칸막이가 존재하는 부분은 1로 표시됩니다. 구멍이 뚫려있는 부분끼리 상,하,좌,우로 붙어있는 경우 서로 연결되어 있는 것으로 간주합니다. 이때 얼음 틀의 모양이 주어졌을 때 생성되는 총 아이스크림의 개수를 구하는 프로그램을 작성하세요."
      ]
    },
    {
      "cell_type": "code",
      "metadata": {
        "id": "JwBvZBz2ZjDo",
        "colab": {
          "base_uri": "https://localhost:8080/"
        },
        "outputId": "4bd83039-634e-4118-fac4-840487e81e5d"
      },
      "source": [
        "import numpy as np\r\n",
        "from collections import deque\r\n",
        "\r\n",
        "ice = [[0,0,1,1,0],\r\n",
        "       [0,0,0,1,1],\r\n",
        "       [1,1,1,1,1],\r\n",
        "       [0,0,0,0,0]\r\n",
        "       ]\r\n",
        "ice = np.array(ice)\r\n",
        "print(ice.shape)\r\n",
        "\r\n",
        "n,m=4,5\r\n",
        "visited = np.zeros((n,m))\r\n",
        "\r\n",
        "\r\n",
        "# 상,하,좌,우로 인접한 노드가 0, 즉 icecream이 있는 칸이면 visited = True로 바꾸면서\r\n",
        "# 인접한 노드 중 icecream이 있는 연결 고리들을 visted =True로 바꿈\r\n",
        "# 이 과정에서, 인접한 노드에서 다시 find_icecream을 돌려서 그 노드의 인접 노드부터 찾게 되므로\r\n",
        "# 일종의 dfs\r\n",
        "def find_icecream(row,col):\r\n",
        "  if row>=n or row<0 or col>=m or col<0:\r\n",
        "    return False\r\n",
        "\r\n",
        "  if ice[row][col]==0 and visited[row][col]==0:\r\n",
        "    visited[row][col]=1\r\n",
        "    find_icecream(row-1,col)\r\n",
        "    find_icecream(row+1,col)\r\n",
        "    find_icecream(row, col+1)\r\n",
        "    find_icecream(row, col-1)\r\n",
        "    return True\r\n",
        "  else:\r\n",
        "    return False\r\n",
        "\r\n",
        "cnt=0\r\n",
        "for i in range(0,n):\r\n",
        "  for j in range(0,m):\r\n",
        "    if find_icecream(i,j)==True:\r\n",
        "      cnt+=1\r\n",
        "cnt"
      ],
      "execution_count": 7,
      "outputs": [
        {
          "output_type": "stream",
          "text": [
            "(4, 5)\n"
          ],
          "name": "stdout"
        },
        {
          "output_type": "execute_result",
          "data": {
            "text/plain": [
              "3"
            ]
          },
          "metadata": {
            "tags": []
          },
          "execution_count": 7
        }
      ]
    },
    {
      "cell_type": "markdown",
      "metadata": {
        "id": "zvc06L-_1VpU"
      },
      "source": [
        "**option> bfs 풀이**"
      ]
    },
    {
      "cell_type": "code",
      "metadata": {
        "id": "mia9DJaodQ56",
        "colab": {
          "base_uri": "https://localhost:8080/"
        },
        "outputId": "a4ed72d6-0fc4-4fb2-f110-f3074da8311b"
      },
      "source": [
        "n,m=4,5\r\n",
        "visited = np.zeros((n,m))\r\n",
        "adj_find = []\r\n",
        "def find_icecream(row, col):\r\n",
        "  if visited[row][col]==1 or ice[row][col]==1:\r\n",
        "    return False\r\n",
        "  adj_find.append((row,col))\r\n",
        "  adj_dir = [(0,1),(0,-1),(1,0),(-1,0)]\r\n",
        "  while adj_find:\r\n",
        "    r,c = adj_find.pop()\r\n",
        "    visited[r][c]=1\r\n",
        "    for dir_x, dir_y in adj_dir:\r\n",
        "      adj_row, adj_col= r+dir_x, c+dir_y\r\n",
        "      if adj_row<0 or adj_row>=n or adj_col<0 or adj_col>=m:\r\n",
        "        continue\r\n",
        "      if ice[adj_row][adj_col]==0 and visited[adj_row][adj_col]==0:\r\n",
        "        adj_find.append((adj_row,adj_col))\r\n",
        "  return True\r\n",
        "\r\n",
        "cnt=0\r\n",
        "for i in range(0,n):\r\n",
        "  for j in range(0,m):\r\n",
        "    if find_icecream(i,j)==True:\r\n",
        "      print(i,j)\r\n",
        "      cnt+=1\r\n",
        "cnt"
      ],
      "execution_count": 43,
      "outputs": [
        {
          "output_type": "stream",
          "text": [
            "0 0\n",
            "0 4\n",
            "3 0\n"
          ],
          "name": "stdout"
        },
        {
          "output_type": "execute_result",
          "data": {
            "text/plain": [
              "3"
            ]
          },
          "metadata": {
            "tags": []
          },
          "execution_count": 43
        }
      ]
    },
    {
      "cell_type": "code",
      "metadata": {
        "id": "odUSAmiopcZy"
      },
      "source": [
        ""
      ],
      "execution_count": null,
      "outputs": []
    }
  ]
}