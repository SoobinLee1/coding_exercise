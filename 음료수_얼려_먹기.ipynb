{
  "nbformat": 4,
  "nbformat_minor": 0,
  "metadata": {
    "colab": {
      "name": "음료수 얼려 먹기",
      "provenance": [],
      "authorship_tag": "ABX9TyNni64defw9Eec+Z8PBx6l2",
      "include_colab_link": true
    },
    "kernelspec": {
      "name": "python3",
      "display_name": "Python 3"
    }
  },
  "cells": [
    {
      "cell_type": "markdown",
      "metadata": {
        "id": "view-in-github",
        "colab_type": "text"
      },
      "source": [
        "<a href=\"https://colab.research.google.com/github/SoobinLee1/coding_exercise/blob/main/%EC%9D%8C%EB%A3%8C%EC%88%98_%EC%96%BC%EB%A0%A4_%EB%A8%B9%EA%B8%B0.ipynb\" target=\"_parent\"><img src=\"https://colab.research.google.com/assets/colab-badge.svg\" alt=\"Open In Colab\"/></a>"
      ]
    },
    {
      "cell_type": "markdown",
      "metadata": {
        "id": "BJ63mSMefFmN"
      },
      "source": [
        "n*m 크기의 얼음틀이 있습니다. 구멍이 뚤려있는 부분은 0, 칸막이가 존재하는 부분은 1로 표시됩니다. 구멍이 뚫려있는 부분끼리 상,하,좌,우로 붙어있는 경우 서로 연결되어 있는 것으로 간주합니다. 이때 얼음 틀의 모양이 주어졌을 때 생성되는 총 아이스크림의 개수를 구하는 프로그램을 작성하세요."
      ]
    },
    {
      "cell_type": "code",
      "metadata": {
        "id": "JwBvZBz2ZjDo"
      },
      "source": [
        "#본인이 0이면서 인접노드 모두 visited일때 answer+=1\r\n",
        "graph = [\r\n",
        "  [],\r\n",
        "  [2,6,7],\r\n",
        "  [1,3,7],\r\n",
        "  [2,4,8],\r\n",
        "  [3,5,9],\r\n",
        "  [4,10],\r\n",
        "  [1,7,11],\r\n",
        "  [2,6,8,12],\r\n",
        "  [3,7,9,13],\r\n",
        "  [4,8,10,14],\r\n",
        "  [5,9,15],\r\n",
        "  [6,12,16],\r\n",
        "  [7,11,13,17],\r\n",
        "  [8,12,14,18],\r\n",
        "  [9,13,15,19],\r\n",
        "  [10,14,20],\r\n",
        "  [11,17],\r\n",
        "  [12,16,18],\r\n",
        "  [13,17,19],\r\n",
        "  [14,18,20],\r\n",
        "  [15,19]         \r\n",
        "]\r\n",
        "\r\n",
        "ice = [[0,0,1,1,0],\r\n",
        "       [0,0,0,1,1],\r\n",
        "       [1,1,1,1,1],\r\n",
        "       [0,0,0,0,0]\r\n",
        "       ]\r\n",
        "\r\n",
        "import numpy as np\r\n",
        "from collections import deque\r\n",
        "\r\n",
        "def find_icecream(n,m,graph,ice):\r\n",
        "  que = deque([1])\r\n",
        "  visited = [False]*(n*m+1)\r\n",
        "  visited[1]=True\r\n",
        "  ice=np.ravel(ice)\r\n",
        "  cnt=0\r\n",
        "  while que:\r\n",
        "    v = que.popleft()\r\n",
        "    last_ice=True\r\n",
        "    for i in graph[v]:\r\n",
        "      if not visited[i] and ice[i-1]==0:\r\n",
        "        visited[i]=True\r\n",
        "        que.append(i)\r\n",
        "        last_ice=False\r\n",
        "      elif not visited[i] and ice[i-1]==1:\r\n",
        "        visited[i]=True\r\n",
        "        que.append(i)\r\n",
        "    if ice[v-1]==0 and last_ice:\r\n",
        "      print(v)\r\n",
        "      cnt+=1\r\n",
        "  return cnt"
      ],
      "execution_count": 22,
      "outputs": []
    },
    {
      "cell_type": "code",
      "metadata": {
        "colab": {
          "base_uri": "https://localhost:8080/"
        },
        "id": "b7x_mC04Zt1E",
        "outputId": "a11dcd75-e838-4db9-9284-a20aa49ff4e4"
      },
      "source": [
        "find_icecream(4,5,graph,ice)"
      ],
      "execution_count": 23,
      "outputs": [
        {
          "output_type": "stream",
          "text": [
            "2\n",
            "6\n",
            "8\n",
            "16\n",
            "17\n",
            "5\n",
            "18\n",
            "19\n",
            "20\n"
          ],
          "name": "stdout"
        },
        {
          "output_type": "execute_result",
          "data": {
            "text/plain": [
              "9"
            ]
          },
          "metadata": {
            "tags": []
          },
          "execution_count": 23
        }
      ]
    },
    {
      "cell_type": "code",
      "metadata": {
        "id": "mia9DJaodQ56"
      },
      "source": [
        ""
      ],
      "execution_count": null,
      "outputs": []
    }
  ]
}