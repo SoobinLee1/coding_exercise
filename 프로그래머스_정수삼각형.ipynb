{
  "nbformat": 4,
  "nbformat_minor": 0,
  "metadata": {
    "colab": {
      "name": "Colaboratory에 오신 것을 환영합니다",
      "provenance": [],
      "collapsed_sections": [],
      "toc_visible": true
    },
    "kernelspec": {
      "display_name": "Python 3",
      "name": "python3"
    }
  },
  "cells": [
    {
      "cell_type": "code",
      "metadata": {
        "id": "q9sAWKPRneMw"
      },
      "source": [
        "import numpy as np\r\n",
        "\r\n",
        "def solution(triangle):\r\n",
        "    n = len(triangle)\r\n",
        "    tot_cnt = 15\r\n",
        "    steps = [0]*tot_cnt\r\n",
        "    steps[0]=triangle[0][0]\r\n",
        "    prev_len = idx = 1\r\n",
        "    for m in range(1,n):\r\n",
        "        cur_line = triangle[m]\r\n",
        "        for i, t in enumerate(cur_line):\r\n",
        "            print(prev_len)\r\n",
        "            if i==0:\r\n",
        "                steps[idx]=steps[idx-prev_len]+t\r\n",
        "            elif i==len(cur_line)-1:\r\n",
        "                steps[idx]=steps[idx-prev_len-1]+t\r\n",
        "            else:\r\n",
        "                steps[idx] = max(steps[idx-prev_len],steps[idx-prev_len-1])+t\r\n",
        "            idx+=1\r\n",
        "        prev_len = len(cur_line)\r\n",
        "    answer = max(steps)\r\n",
        "    print(steps)\r\n",
        "    return answer"
      ],
      "execution_count": 13,
      "outputs": []
    },
    {
      "cell_type": "code",
      "metadata": {
        "id": "dO3PCNJInfJa",
        "outputId": "2ecaf9ca-c03a-48a6-ca9b-57ea65d054d0",
        "colab": {
          "base_uri": "https://localhost:8080/"
        }
      },
      "source": [
        "solution([[7], [3, 8], [8, 1, 0], [2, 7, 4, 4], [4, 5, 2, 6, 5]])"
      ],
      "execution_count": 14,
      "outputs": [
        {
          "output_type": "stream",
          "text": [
            "1\n",
            "1\n",
            "2\n",
            "2\n",
            "2\n",
            "3\n",
            "3\n",
            "3\n",
            "3\n",
            "4\n",
            "4\n",
            "4\n",
            "4\n",
            "4\n",
            "[7, 10, 15, 18, 16, 15, 20, 25, 20, 19, 24, 30, 27, 26, 24]\n"
          ],
          "name": "stdout"
        },
        {
          "output_type": "execute_result",
          "data": {
            "text/plain": [
              "30"
            ]
          },
          "metadata": {
            "tags": []
          },
          "execution_count": 14
        }
      ]
    },
    {
      "cell_type": "code",
      "metadata": {
        "id": "CNMWY_VEnl1x"
      },
      "source": [
        ""
      ],
      "execution_count": null,
      "outputs": []
    }
  ]
}