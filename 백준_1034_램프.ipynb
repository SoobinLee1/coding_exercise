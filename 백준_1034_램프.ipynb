{
  "nbformat": 4,
  "nbformat_minor": 0,
  "metadata": {
    "colab": {
      "name": "Untitled11.ipynb",
      "provenance": [],
      "authorship_tag": "ABX9TyMuv35wv03TdDTzyehA/vgK"
    },
    "kernelspec": {
      "name": "python3",
      "display_name": "Python 3"
    }
  },
  "cells": [
    {
      "cell_type": "markdown",
      "metadata": {
        "id": "I8glMfaPHgZF"
      },
      "source": [
        "### 백준- 1034) 램프\r\n",
        "50개의 열이 존재하므로, 껐다 켰다(2)의 50승에 해당한다고 볼 수 있음. 이럴 때, 경우의 수는 1억개를 넘어가므로(1억개를 넘기느냐가 알고리즘 시간복잡도 계산의 기준!) brute force 탐색이 아니라 패턴을 발견해보는 등의 대안이 필요하다.\r\n",
        "\r\n",
        "\r\n",
        "> 1. 한 행에서 꺼진 전구(0) 수가 k회를 넘지 않는다.\r\n",
        "\r\n",
        "> 2. k가 짝수이면, 전구 상태는 기존과 동일, 홀수이면 바뀐다. 따라서 꺼져있는 램프의 개수와 k가 모두 짝수/홀수이어야 한다.\r\n",
        "\r\n",
        "\r\n",
        "> 3. 행의 상태가 같은 것은 k회 상태 변화 이후 상태도 동일하다.\r\n"
      ]
    },
    {
      "cell_type": "code",
      "metadata": {
        "colab": {
          "base_uri": "https://localhost:8080/"
        },
        "id": "C4aJInO_HfmM",
        "outputId": "df10bcd8-b80f-4786-9948-9c884a9ede73"
      },
      "source": [
        "temp = input()\r\n",
        "n,m = int(temp.split(' ')[0]),int(temp.split(' ')[1])\r\n",
        "lamps = []\r\n",
        "for i in range(n):\r\n",
        "  temp = input()\r\n",
        "  lamps.append(list(temp))\r\n",
        "k = int(input())\r\n",
        "check = []\r\n",
        "\r\n",
        "# 1,2 조건 체크 후 k회 안에 모든 전구 on이 가능한 경우 탐색\r\n",
        "for i in range(n):\r\n",
        "  zero = 0\r\n",
        "  for l in lamps[i]:\r\n",
        "    if l=='0':\r\n",
        "      zero+=1\r\n",
        "  if zero <= k and zero%2==k%2:\r\n",
        "    check.append(1)\r\n",
        "  else:\r\n",
        "    check.append(0)\r\n",
        "\r\n",
        "# 3. k회 안에 모든 전구 on으로 상태 변화 가능하면서\r\n",
        "# 행의 상태가 서로 같은 전구 수(같이 상태 변화 가능한 전구 수) 세기\r\n",
        "max_cnt = 0\r\n",
        "for i in range(n):\r\n",
        "  if check[i]==1:\r\n",
        "    cnt = 1\r\n",
        "    for j in range(n):\r\n",
        "      if j==i:\r\n",
        "        continue\r\n",
        "      if lamps[j] == lamps[i]:\r\n",
        "        cnt+=1\r\n",
        "    if max_cnt < cnt:\r\n",
        "      max_cnt = cnt\r\n",
        "\r\n",
        "print(max_cnt)"
      ],
      "execution_count": 1,
      "outputs": [
        {
          "output_type": "stream",
          "text": [
            "3 2\n",
            "01\n",
            "10\n",
            "10\n",
            "1\n",
            "2\n"
          ],
          "name": "stdout"
        }
      ]
    },
    {
      "cell_type": "code",
      "metadata": {
        "id": "pGHzhsBPHjbI"
      },
      "source": [
        ""
      ],
      "execution_count": null,
      "outputs": []
    }
  ]
}