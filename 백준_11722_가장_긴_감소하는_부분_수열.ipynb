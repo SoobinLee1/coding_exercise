{
  "nbformat": 4,
  "nbformat_minor": 0,
  "metadata": {
    "colab": {
      "name": "백준_11722_가장 긴 감소하는 부분 수열",
      "provenance": [],
      "authorship_tag": "ABX9TyMiqpwSFRMtZuB+z2kOzhcQ"
    },
    "kernelspec": {
      "name": "python3",
      "display_name": "Python 3"
    }
  },
  "cells": [
    {
      "cell_type": "markdown",
      "metadata": {
        "id": "8AE37JytEyY8"
      },
      "source": [
        "## dp\r\n",
        "\r\n",
        "현재 원소를 기준으로 그 앞의 원소들 중 본인보다 큰 원소의 개수를 count하면된다.\r\n",
        "\r\n",
        "이때, 앞에서 까지 본인보다 큰 원소들의 그동안 count를 dp 테이블에서 look up하여 가져온다면 불필요한 반복을 줄일 수 있을 것이다."
      ]
    },
    {
      "cell_type": "code",
      "metadata": {
        "id": "uwrQY9K5Ewhh"
      },
      "source": [
        "N = int(input())\r\n",
        "A = list(map(int, input().split(\" \")))\r\n",
        "answer = [0]*N\r\n",
        "\r\n",
        "for idx1, a1 in enumerate(A):\r\n",
        "  for idx2, a2 in enumerate(A[:idx1]):\r\n",
        "    if a2>a1:\r\n",
        "      temp = answer[idx2]+1\r\n",
        "      if temp>answer[idx1]:\r\n",
        "        answer[idx1]=temp\r\n",
        "print(max(answer)+1)"
      ],
      "execution_count": null,
      "outputs": []
    }
  ]
}