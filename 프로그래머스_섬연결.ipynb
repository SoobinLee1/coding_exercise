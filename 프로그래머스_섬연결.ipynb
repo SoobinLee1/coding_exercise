{
  "nbformat": 4,
  "nbformat_minor": 0,
  "metadata": {
    "colab": {
      "name": "프로그래머스_섬연결",
      "provenance": [],
      "collapsed_sections": [],
      "authorship_tag": "ABX9TyPjspp1MWgOJAo3dYE6Ke0X"
    },
    "kernelspec": {
      "name": "python3",
      "display_name": "Python 3"
    }
  },
  "cells": [
    {
      "cell_type": "markdown",
      "metadata": {
        "id": "2ENrr4vqj-9c"
      },
      "source": [
        "n개의 섬 사이에 다리를 건설하는 비용(costs)이 주어질 때, **최소의 비용**으로 **모든 섬이 서로 통행 가능**하도록 만들 때 필요한 최소 비용을 return 하도록 solution을 완성하세요.\r\n",
        "\r\n",
        "다리를 여러 번 건너더라도, 도달할 수만 있으면 통행 가능하다고 봅니다. 예를 들어 A 섬과 B 섬 사이에 다리가 있고, B 섬과 C 섬 사이에 다리가 있으면 A 섬과 C 섬은 서로 통행 가능합니다."
      ]
    },
    {
      "cell_type": "markdown",
      "metadata": {
        "id": "7-Fk6XSDj2PP"
      },
      "source": [
        "    - 최소 값 찾기 => greedy\r\n",
        "    - 연결 가지 찾기 => bfs"
      ]
    },
    {
      "cell_type": "code",
      "metadata": {
        "id": "S3g71u4FjxlN"
      },
      "source": [
        "def solution(n, costs):\r\n",
        "    answer = 0\r\n",
        "    connected = [[] * n for i in range(n)]    # 이중리스트 초기화\r\n",
        "    costs.sort(key=lambda x: x[2])\r\n",
        "    for c in costs:\r\n",
        "        connected[c[0]].append((c[1],c[2]))\r\n",
        "        connected[c[1]].append((c[0],c[2]))\r\n",
        "    \r\n",
        "    visited = [0]*n\r\n",
        "    while not all(visited):\r\n",
        "        s,e,c = costs.pop(0)\r\n",
        "        answer+=c\r\n",
        "        visited[s]=visited[e]=1\r\n",
        "        temp = connected[s]+connected[e]\r\n",
        "        temp.sort(key=lambda x: x[1])\r\n",
        "        while temp:\r\n",
        "            temp.sort(key=lambda x: x[1])\r\n",
        "            t = temp.pop(0)\r\n",
        "            if visited[t[0]]==0:\r\n",
        "                for con in connected[t[0]]:\r\n",
        "                    temp.append(con)\r\n",
        "                answer+=t[1]\r\n",
        "                visited[t[0]]=1\r\n",
        "    return answer"
      ],
      "execution_count": 1,
      "outputs": []
    },
    {
      "cell_type": "code",
      "metadata": {
        "id": "wbVpKOZQj1px"
      },
      "source": [
        ""
      ],
      "execution_count": null,
      "outputs": []
    }
  ]
}