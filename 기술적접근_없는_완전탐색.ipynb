{
  "nbformat": 4,
  "nbformat_minor": 0,
  "metadata": {
    "colab": {
      "name": "기술적접근_없는_완전탐색.ipynb",
      "provenance": [],
      "collapsed_sections": [],
      "authorship_tag": "ABX9TyPFzny+vz7ylEID63UC+ekv"
    },
    "kernelspec": {
      "name": "python3",
      "display_name": "Python 3"
    }
  },
  "cells": [
    {
      "cell_type": "markdown",
      "metadata": {
        "id": "45NnlyaABHXQ"
      },
      "source": [
        "## 테스트 환경이 극히 작은 경우의 완전탐색"
      ]
    },
    {
      "cell_type": "code",
      "metadata": {
        "id": "NW8ahr1T31Fb"
      },
      "source": [
        "board = []\r\n",
        "for i in range(4):\r\n",
        "    line = str(input()).split(\" \")\r\n",
        "    # board.append(list(map(lambda x: int(x,16),line)))\r\n",
        "    board.append(line)\r\n",
        "\r\n",
        "direction = [(-1,0),(0,1),(1,0),(0,-1)]   # up,right,down,left\r\n",
        "answers =[]\r\n",
        "answer_char = []\r\n",
        "\r\n",
        "for i in range(16):\r\n",
        "    answers.append([])\r\n",
        "    x = i//4\r\n",
        "    y = i%4\r\n",
        "    for dx,dy in direction:\r\n",
        "        if 0<=x+dx and x+dx<4 and 0<=y+dy and y+dy<4:\r\n",
        "            answers[i].append(4*(x+dx)+y+dy)\r\n",
        "\r\n",
        "for i in range(16):\r\n",
        "    for j in answers[i]:\r\n",
        "        for k in answers[j]:\r\n",
        "            for m in answers[k]:\r\n",
        "                for a in answers[m]:\r\n",
        "                    for b in answers[a]:\r\n",
        "                        for c in answers[b]:\r\n",
        "                            for d in answers[c]:\r\n",
        "                                answer_char.append(board[i//4][i%4]+board[j//4][j%4]+\r\n",
        "                                                board[k//4][k%4]+board[m//4][m%4]+\r\n",
        "                                                board[a//4][a%4]+board[b//4][b%4]+\r\n",
        "                                                board[c//4][c%4]+board[d//4][d%4]\r\n",
        "                                                )\r\n",
        "\r\n",
        "print(len(set(answer_char)))"
      ],
      "execution_count": null,
      "outputs": []
    },
    {
      "cell_type": "code",
      "metadata": {
        "id": "vjxZ9F6XBFvo"
      },
      "source": [
        "for i in range(2):\r\n",
        "    if i==0:\r\n",
        "        dia_info = str(input())\r\n",
        "    else:\r\n",
        "        dia_cost = str(input())\r\n",
        "n,m = int(dia_info.split(\" \")[0]), int(dia_info.split(\" \")[1])\r\n",
        "dia_costs = list(map(int, dia_cost.split(\" \")))\r\n",
        "\r\n",
        "# costs_list = [False]*(m+1)\r\n",
        "# dia_costs.sort(reverse=True)\r\n",
        "answer = 0\r\n",
        "for i in range(n):\r\n",
        "    for j in range(i+1,n):\r\n",
        "        for k in range(j+1,n):\r\n",
        "            temp = dia_costs[i]+dia_costs[j]+dia_costs[k]\r\n",
        "            if temp<=m and answer<temp:\r\n",
        "                answer = temp\r\n",
        "print(answer)"
      ],
      "execution_count": null,
      "outputs": []
    }
  ]
}