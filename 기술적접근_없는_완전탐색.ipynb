{
  "nbformat": 4,
  "nbformat_minor": 0,
  "metadata": {
    "colab": {
      "name": "기술적접근_없는_완전탐색.ipynb",
      "provenance": [],
      "collapsed_sections": [],
      "authorship_tag": "ABX9TyOTU9Xst7BUEoTE16EtweZN"
    },
    "kernelspec": {
      "name": "python3",
      "display_name": "Python 3"
    }
  },
  "cells": [
    {
      "cell_type": "markdown",
      "metadata": {
        "id": "45NnlyaABHXQ"
      },
      "source": [
        "## 테스트 환경이 극히 작은 경우의 완전탐색"
      ]
    },
    {
      "cell_type": "markdown",
      "metadata": {
        "id": "mVVOAiMSOTO3"
      },
      "source": [
        "1. 문자판은 4x4 크기로 이루어져있고, 각 칸에는 16진수(0,1,2,3,4,5,6,7,8,9,a,b,c,d,e,f) 가 적혀있다.\r\n",
        "\r\n",
        "채굴하는 방법은 다음과 같다. 해당 문자판 임의의 위치에서 시작하여 상,하,좌,우로 각각 움직이면서 8자리의 16진수를 만든다. 이때 한번 이동했던 위치로 다시 돌아갈 수 있다.\r\n",
        "\r\n",
        "입력 1\r\n",
        "\r\n",
        "1 1 1 1\r\n",
        "\r\n",
        "1 1 1 1\r\n",
        "\r\n",
        "1 1 1 1\r\n",
        "\r\n",
        "2 1 1 1\r\n",
        "\r\n",
        "출력 1\r\n",
        "\r\n",
        "31"
      ]
    },
    {
      "cell_type": "code",
      "metadata": {
        "id": "NW8ahr1T31Fb"
      },
      "source": [
        "board = []\r\n",
        "for i in range(4):\r\n",
        "    line = str(input()).split(\" \")\r\n",
        "    # board.append(list(map(lambda x: int(x,16),line)))\r\n",
        "    board.append(line)\r\n",
        "\r\n",
        "direction = [(-1,0),(0,1),(1,0),(0,-1)]   # up,right,down,left\r\n",
        "answers =[]\r\n",
        "answer_char = []\r\n",
        "\r\n",
        "for i in range(16):\r\n",
        "    answers.append([])\r\n",
        "    x = i//4\r\n",
        "    y = i%4\r\n",
        "    for dx,dy in direction:\r\n",
        "        if 0<=x+dx and x+dx<4 and 0<=y+dy and y+dy<4:\r\n",
        "            answers[i].append(4*(x+dx)+y+dy)\r\n",
        "\r\n",
        "for i in range(16):\r\n",
        "    for j in answers[i]:\r\n",
        "        for k in answers[j]:\r\n",
        "            for m in answers[k]:\r\n",
        "                for a in answers[m]:\r\n",
        "                    for b in answers[a]:\r\n",
        "                        for c in answers[b]:\r\n",
        "                            for d in answers[c]:\r\n",
        "                                answer_char.append(board[i//4][i%4]+board[j//4][j%4]+\r\n",
        "                                                board[k//4][k%4]+board[m//4][m%4]+\r\n",
        "                                                board[a//4][a%4]+board[b//4][b%4]+\r\n",
        "                                                board[c//4][c%4]+board[d//4][d%4]\r\n",
        "                                                )\r\n",
        "\r\n",
        "print(len(set(answer_char)))"
      ],
      "execution_count": null,
      "outputs": []
    },
    {
      "cell_type": "markdown",
      "metadata": {
        "id": "S0gnJMBVOhgE"
      },
      "source": [
        "2. N개 다이아몬드의 가격이 각각 주어졌을 때, M원을 넘지 않으면서 M원에 최대한 가까운 다이아몬드 3개 가격의 합을 구해보자.\r\n",
        "\r\n",
        "입력\r\n",
        "\r\n",
        "첫째 줄에 다이아몬드 개수 N( 3<=N<= 100)과 M(10<=M<=300000)이 주어진다. 둘째 줄에는 다이아몬드 각각의 가격이 주어진다. 다이아몬드 각각의 가격은 100,000원을 넘지 않는다.\r\n",
        "\r\n",
        "출력\r\n",
        "\r\n",
        "첫째 줄에 M을 넘지 않으면서 M에 최대한 가까운 다이아몬드 3개 가격의 합을 출력한다.\r\n",
        "\r\n",
        "입력 1\r\n",
        "\r\n",
        "5 21\r\n",
        "\r\n",
        "5 6 7 8 9\r\n",
        "\r\n",
        "출력 1\r\n",
        "\r\n",
        "21"
      ]
    },
    {
      "cell_type": "code",
      "metadata": {
        "id": "vjxZ9F6XBFvo"
      },
      "source": [
        "for i in range(2):\r\n",
        "    if i==0:\r\n",
        "        dia_info = str(input())\r\n",
        "    else:\r\n",
        "        dia_cost = str(input())\r\n",
        "n,m = int(dia_info.split(\" \")[0]), int(dia_info.split(\" \")[1])\r\n",
        "dia_costs = list(map(int, dia_cost.split(\" \")))\r\n",
        "\r\n",
        "# costs_list = [False]*(m+1)\r\n",
        "# dia_costs.sort(reverse=True)\r\n",
        "answer = 0\r\n",
        "for i in range(n):\r\n",
        "    for j in range(i+1,n):\r\n",
        "        for k in range(j+1,n):\r\n",
        "            temp = dia_costs[i]+dia_costs[j]+dia_costs[k]\r\n",
        "            if temp<=m and answer<temp:\r\n",
        "                answer = temp\r\n",
        "print(answer)"
      ],
      "execution_count": null,
      "outputs": []
    },
    {
      "cell_type": "markdown",
      "metadata": {
        "id": "eGdhm_AXOzhy"
      },
      "source": [
        "3. 한 번 자를 때마다 C원이 든다. 잘린 것은 단위길이당 F원에 판매한다.!\r\n",
        "\r\n",
        "첫째 줄에 그 날 뽑은 엿가락의 개수 N, 엿을 자를 때 드는 비용 C, 단위길이당 가격 F가 주어진다. 둘째 줄부터 엿 기계에서 뽑혀진 엿의 길이가 한 줄에 하나씩 주어진다. N은 1,000 이하의 자연수, F는 10,000 이하의 자연수, L도 10,000 이하의 자연수이다.\r\n",
        "\r\n",
        "벌 수 있는 최대 금액은?"
      ]
    },
    {
      "cell_type": "code",
      "metadata": {
        "colab": {
          "base_uri": "https://localhost:8080/",
          "height": 545
        },
        "id": "z6tTV1KuOR_Y",
        "outputId": "fcaebd46-23b1-48d3-99a9-7d84f1888a89"
      },
      "source": [
        "n,cut,earn = list(map(int,(input()).split(\" \")))\r\n",
        "ttoeks = []\r\n",
        "for i in range(int(n)):\r\n",
        "    ttoeks.append(int(input()))\r\n",
        "\r\n",
        "max_income = 0\r\n",
        "out = 0\r\n",
        "for i in range(1,max(ttoeks)+1):\r\n",
        "    income=0\r\n",
        "    for t in ttoeks:\r\n",
        "        if t//i>0 and t%i == 0:\r\n",
        "            income+=(t-t%i)*earn-(t//i-1)*cut\r\n",
        "        elif t//i>0:\r\n",
        "            income+=(t-t%i)*earn-(t//i)*cut\r\n",
        "    if max_income < income:\r\n",
        "        out = i\r\n",
        "        max_income = income\r\n",
        "print(max_income)"
      ],
      "execution_count": 1,
      "outputs": [
        {
          "output_type": "error",
          "ename": "KeyboardInterrupt",
          "evalue": "ignored",
          "traceback": [
            "\u001b[0;31m---------------------------------------------------------------------------\u001b[0m",
            "\u001b[0;31mKeyboardInterrupt\u001b[0m                         Traceback (most recent call last)",
            "\u001b[0;32m/usr/local/lib/python3.6/dist-packages/ipykernel/kernelbase.py\u001b[0m in \u001b[0;36m_input_request\u001b[0;34m(self, prompt, ident, parent, password)\u001b[0m\n\u001b[1;32m    728\u001b[0m             \u001b[0;32mtry\u001b[0m\u001b[0;34m:\u001b[0m\u001b[0;34m\u001b[0m\u001b[0;34m\u001b[0m\u001b[0m\n\u001b[0;32m--> 729\u001b[0;31m                 \u001b[0mident\u001b[0m\u001b[0;34m,\u001b[0m \u001b[0mreply\u001b[0m \u001b[0;34m=\u001b[0m \u001b[0mself\u001b[0m\u001b[0;34m.\u001b[0m\u001b[0msession\u001b[0m\u001b[0;34m.\u001b[0m\u001b[0mrecv\u001b[0m\u001b[0;34m(\u001b[0m\u001b[0mself\u001b[0m\u001b[0;34m.\u001b[0m\u001b[0mstdin_socket\u001b[0m\u001b[0;34m,\u001b[0m \u001b[0;36m0\u001b[0m\u001b[0;34m)\u001b[0m\u001b[0;34m\u001b[0m\u001b[0;34m\u001b[0m\u001b[0m\n\u001b[0m\u001b[1;32m    730\u001b[0m             \u001b[0;32mexcept\u001b[0m \u001b[0mException\u001b[0m\u001b[0;34m:\u001b[0m\u001b[0;34m\u001b[0m\u001b[0;34m\u001b[0m\u001b[0m\n",
            "\u001b[0;32m/usr/local/lib/python3.6/dist-packages/jupyter_client/session.py\u001b[0m in \u001b[0;36mrecv\u001b[0;34m(self, socket, mode, content, copy)\u001b[0m\n\u001b[1;32m    802\u001b[0m         \u001b[0;32mtry\u001b[0m\u001b[0;34m:\u001b[0m\u001b[0;34m\u001b[0m\u001b[0;34m\u001b[0m\u001b[0m\n\u001b[0;32m--> 803\u001b[0;31m             \u001b[0mmsg_list\u001b[0m \u001b[0;34m=\u001b[0m \u001b[0msocket\u001b[0m\u001b[0;34m.\u001b[0m\u001b[0mrecv_multipart\u001b[0m\u001b[0;34m(\u001b[0m\u001b[0mmode\u001b[0m\u001b[0;34m,\u001b[0m \u001b[0mcopy\u001b[0m\u001b[0;34m=\u001b[0m\u001b[0mcopy\u001b[0m\u001b[0;34m)\u001b[0m\u001b[0;34m\u001b[0m\u001b[0;34m\u001b[0m\u001b[0m\n\u001b[0m\u001b[1;32m    804\u001b[0m         \u001b[0;32mexcept\u001b[0m \u001b[0mzmq\u001b[0m\u001b[0;34m.\u001b[0m\u001b[0mZMQError\u001b[0m \u001b[0;32mas\u001b[0m \u001b[0me\u001b[0m\u001b[0;34m:\u001b[0m\u001b[0;34m\u001b[0m\u001b[0;34m\u001b[0m\u001b[0m\n",
            "\u001b[0;32m/usr/local/lib/python3.6/dist-packages/zmq/sugar/socket.py\u001b[0m in \u001b[0;36mrecv_multipart\u001b[0;34m(self, flags, copy, track)\u001b[0m\n\u001b[1;32m    582\u001b[0m         \"\"\"\n\u001b[0;32m--> 583\u001b[0;31m         \u001b[0mparts\u001b[0m \u001b[0;34m=\u001b[0m \u001b[0;34m[\u001b[0m\u001b[0mself\u001b[0m\u001b[0;34m.\u001b[0m\u001b[0mrecv\u001b[0m\u001b[0;34m(\u001b[0m\u001b[0mflags\u001b[0m\u001b[0;34m,\u001b[0m \u001b[0mcopy\u001b[0m\u001b[0;34m=\u001b[0m\u001b[0mcopy\u001b[0m\u001b[0;34m,\u001b[0m \u001b[0mtrack\u001b[0m\u001b[0;34m=\u001b[0m\u001b[0mtrack\u001b[0m\u001b[0;34m)\u001b[0m\u001b[0;34m]\u001b[0m\u001b[0;34m\u001b[0m\u001b[0;34m\u001b[0m\u001b[0m\n\u001b[0m\u001b[1;32m    584\u001b[0m         \u001b[0;31m# have first part already, only loop while more to receive\u001b[0m\u001b[0;34m\u001b[0m\u001b[0;34m\u001b[0m\u001b[0;34m\u001b[0m\u001b[0m\n",
            "\u001b[0;32mzmq/backend/cython/socket.pyx\u001b[0m in \u001b[0;36mzmq.backend.cython.socket.Socket.recv\u001b[0;34m()\u001b[0m\n",
            "\u001b[0;32mzmq/backend/cython/socket.pyx\u001b[0m in \u001b[0;36mzmq.backend.cython.socket.Socket.recv\u001b[0;34m()\u001b[0m\n",
            "\u001b[0;32mzmq/backend/cython/socket.pyx\u001b[0m in \u001b[0;36mzmq.backend.cython.socket._recv_copy\u001b[0;34m()\u001b[0m\n",
            "\u001b[0;32m/usr/local/lib/python3.6/dist-packages/zmq/backend/cython/checkrc.pxd\u001b[0m in \u001b[0;36mzmq.backend.cython.checkrc._check_rc\u001b[0;34m()\u001b[0m\n",
            "\u001b[0;31mKeyboardInterrupt\u001b[0m: ",
            "\nDuring handling of the above exception, another exception occurred:\n",
            "\u001b[0;31mKeyboardInterrupt\u001b[0m                         Traceback (most recent call last)",
            "\u001b[0;32m<ipython-input-1-59b45d087271>\u001b[0m in \u001b[0;36m<module>\u001b[0;34m()\u001b[0m\n\u001b[0;32m----> 1\u001b[0;31m \u001b[0mn\u001b[0m\u001b[0;34m,\u001b[0m\u001b[0mcut\u001b[0m\u001b[0;34m,\u001b[0m\u001b[0mearn\u001b[0m \u001b[0;34m=\u001b[0m \u001b[0mlist\u001b[0m\u001b[0;34m(\u001b[0m\u001b[0mmap\u001b[0m\u001b[0;34m(\u001b[0m\u001b[0mint\u001b[0m\u001b[0;34m,\u001b[0m\u001b[0;34m(\u001b[0m\u001b[0minput\u001b[0m\u001b[0;34m(\u001b[0m\u001b[0;34m)\u001b[0m\u001b[0;34m)\u001b[0m\u001b[0;34m.\u001b[0m\u001b[0msplit\u001b[0m\u001b[0;34m(\u001b[0m\u001b[0;34m\" \"\u001b[0m\u001b[0;34m)\u001b[0m\u001b[0;34m)\u001b[0m\u001b[0;34m)\u001b[0m\u001b[0;34m\u001b[0m\u001b[0;34m\u001b[0m\u001b[0m\n\u001b[0m\u001b[1;32m      2\u001b[0m \u001b[0mttoeks\u001b[0m \u001b[0;34m=\u001b[0m \u001b[0;34m[\u001b[0m\u001b[0;34m]\u001b[0m\u001b[0;34m\u001b[0m\u001b[0;34m\u001b[0m\u001b[0m\n\u001b[1;32m      3\u001b[0m \u001b[0;32mfor\u001b[0m \u001b[0mi\u001b[0m \u001b[0;32min\u001b[0m \u001b[0mrange\u001b[0m\u001b[0;34m(\u001b[0m\u001b[0mint\u001b[0m\u001b[0;34m(\u001b[0m\u001b[0mn\u001b[0m\u001b[0;34m)\u001b[0m\u001b[0;34m)\u001b[0m\u001b[0;34m:\u001b[0m\u001b[0;34m\u001b[0m\u001b[0;34m\u001b[0m\u001b[0m\n\u001b[1;32m      4\u001b[0m     \u001b[0mttoeks\u001b[0m\u001b[0;34m.\u001b[0m\u001b[0mappend\u001b[0m\u001b[0;34m(\u001b[0m\u001b[0mint\u001b[0m\u001b[0;34m(\u001b[0m\u001b[0minput\u001b[0m\u001b[0;34m(\u001b[0m\u001b[0;34m)\u001b[0m\u001b[0;34m)\u001b[0m\u001b[0;34m)\u001b[0m\u001b[0;34m\u001b[0m\u001b[0;34m\u001b[0m\u001b[0m\n\u001b[1;32m      5\u001b[0m \u001b[0;34m\u001b[0m\u001b[0m\n",
            "\u001b[0;32m/usr/local/lib/python3.6/dist-packages/ipykernel/kernelbase.py\u001b[0m in \u001b[0;36mraw_input\u001b[0;34m(self, prompt)\u001b[0m\n\u001b[1;32m    702\u001b[0m             \u001b[0mself\u001b[0m\u001b[0;34m.\u001b[0m\u001b[0m_parent_ident\u001b[0m\u001b[0;34m,\u001b[0m\u001b[0;34m\u001b[0m\u001b[0;34m\u001b[0m\u001b[0m\n\u001b[1;32m    703\u001b[0m             \u001b[0mself\u001b[0m\u001b[0;34m.\u001b[0m\u001b[0m_parent_header\u001b[0m\u001b[0;34m,\u001b[0m\u001b[0;34m\u001b[0m\u001b[0;34m\u001b[0m\u001b[0m\n\u001b[0;32m--> 704\u001b[0;31m             \u001b[0mpassword\u001b[0m\u001b[0;34m=\u001b[0m\u001b[0;32mFalse\u001b[0m\u001b[0;34m,\u001b[0m\u001b[0;34m\u001b[0m\u001b[0;34m\u001b[0m\u001b[0m\n\u001b[0m\u001b[1;32m    705\u001b[0m         )\n\u001b[1;32m    706\u001b[0m \u001b[0;34m\u001b[0m\u001b[0m\n",
            "\u001b[0;32m/usr/local/lib/python3.6/dist-packages/ipykernel/kernelbase.py\u001b[0m in \u001b[0;36m_input_request\u001b[0;34m(self, prompt, ident, parent, password)\u001b[0m\n\u001b[1;32m    732\u001b[0m             \u001b[0;32mexcept\u001b[0m \u001b[0mKeyboardInterrupt\u001b[0m\u001b[0;34m:\u001b[0m\u001b[0;34m\u001b[0m\u001b[0;34m\u001b[0m\u001b[0m\n\u001b[1;32m    733\u001b[0m                 \u001b[0;31m# re-raise KeyboardInterrupt, to truncate traceback\u001b[0m\u001b[0;34m\u001b[0m\u001b[0;34m\u001b[0m\u001b[0;34m\u001b[0m\u001b[0m\n\u001b[0;32m--> 734\u001b[0;31m                 \u001b[0;32mraise\u001b[0m \u001b[0mKeyboardInterrupt\u001b[0m\u001b[0;34m\u001b[0m\u001b[0;34m\u001b[0m\u001b[0m\n\u001b[0m\u001b[1;32m    735\u001b[0m             \u001b[0;32melse\u001b[0m\u001b[0;34m:\u001b[0m\u001b[0;34m\u001b[0m\u001b[0;34m\u001b[0m\u001b[0m\n\u001b[1;32m    736\u001b[0m                 \u001b[0;32mbreak\u001b[0m\u001b[0;34m\u001b[0m\u001b[0;34m\u001b[0m\u001b[0m\n",
            "\u001b[0;31mKeyboardInterrupt\u001b[0m: "
          ]
        }
      ]
    }
  ]
}