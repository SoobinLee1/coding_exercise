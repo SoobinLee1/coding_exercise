{
  "nbformat": 4,
  "nbformat_minor": 0,
  "metadata": {
    "colab": {
      "name": "백준_스타트링크타워",
      "provenance": [],
      "authorship_tag": "ABX9TyNx89NWHA0ltmV28/F2viUx"
    },
    "kernelspec": {
      "name": "python3",
      "display_name": "Python 3"
    }
  },
  "cells": [
    {
      "cell_type": "markdown",
      "metadata": {
        "id": "MS-4nBxpnTXp"
      },
      "source": [
        "## 백준_스타트링크 타워\r\n",
        "\r\n",
        "문제의 조건대로 잘 구현하기만 하면 되는 문제"
      ]
    },
    {
      "cell_type": "code",
      "metadata": {
        "id": "HbywvrpYnS3B"
      },
      "source": [
        "N = int(input())\r\n",
        "lights = ['']*5\r\n",
        "answer = [[[] for _ in range(5)] for i in range(N)]\r\n",
        "print(answer)\r\n",
        "stand_nums = [['###','#.#','#.#','#.#','###'],\r\n",
        "              ['..#','..#','..#','..#','..#'],\r\n",
        "              ['###','..#','###','#..','###'],\r\n",
        "              ['###','..#','###','..#','###'],\r\n",
        "              ['#.#','#.#','###','..#','..#'],\r\n",
        "              ['###','#..','###','..#','###'],\r\n",
        "              ['###','#..','###','#.#','###'],\r\n",
        "              ['###','..#','..#','..#','..#'],\r\n",
        "              ['###','#.#','###','#.#','###'],\r\n",
        "              ['###','#.#','###','..#','###']]\r\n",
        "\r\n",
        "for i in range(5):\r\n",
        "  lights[i]=input()\r\n",
        "\r\n",
        "temp = ''\r\n",
        "cnt = 0\r\n",
        "\r\n",
        "while cnt<int(N):\r\n",
        "  for light_idx, l in enumerate(lights):\r\n",
        "    l = list(l)\r\n",
        "    print(cnt,light_idx,\"hi\")\r\n",
        "    while l!=[]:\r\n",
        "      temp = l[:3]\r\n",
        "      l = l[3:]\r\n",
        "      for num_idx, num in enumerate(stand_nums):\r\n",
        "        for t,n in zip(temp, num[light_idx]):\r\n",
        "          if t=='#' and n!='#':\r\n",
        "            flag = False\r\n",
        "            break\r\n",
        "          flag = True\r\n",
        "        if flag == True:\r\n",
        "          answer[cnt][light_idx].append(num_idx)\r\n",
        "      if l!=[]:\r\n",
        "        l.pop(0)\r\n",
        "      elif l==[] and light_idx==4:\r\n",
        "        cnt+=1\r\n",
        "\r\n",
        "from itertools import product\r\n",
        "\r\n",
        "result = [[] for _ in range(N)]\r\n",
        "for idx,a in enumerate(answer):\r\n",
        "  temp = set([0,1,2,3,4,5,6,7,8,9])\r\n",
        "  for i in range(0,5):\r\n",
        "    temp = temp & set(a[i])\r\n",
        "  result[idx]=list(temp)\r\n",
        "\r\n",
        "for i in range()\r\n",
        "list(product(result[0],result[1],result[2]))"
      ],
      "execution_count": null,
      "outputs": []
    }
  ]
}