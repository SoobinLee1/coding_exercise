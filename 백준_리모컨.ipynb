{
  "nbformat": 4,
  "nbformat_minor": 0,
  "metadata": {
    "colab": {
      "name": "백준_리모컨",
      "provenance": [],
      "collapsed_sections": [],
      "authorship_tag": "ABX9TyNZOFytR1ZB4B2P4Lfr6mov"
    },
    "kernelspec": {
      "name": "python3",
      "display_name": "Python 3"
    }
  },
  "cells": [
    {
      "cell_type": "markdown",
      "metadata": {
        "id": "u32RACK6j35J"
      },
      "source": [
        "## 백준_리모컨_브루트포스\r\n",
        "\r\n",
        "처음에는 bfs로 기준 숫자에서 가능한 경우의수들을 que에 넣고, depth를 높여가면서 타겟 숫자를 찾아보려고 하였다."
      ]
    },
    {
      "cell_type": "markdown",
      "metadata": {
        "id": "pasldyEVozHv"
      },
      "source": [
        "하지만 그렇게 하면 중복되는 숫자가 생길 수 밖에 없다. 예를들어 타깃 숫자가 103이고 고장난 수가 3이라고 가정해보겠다. depth는 원래 숫자인 100에서부터 얼마나 차이가 있는지를 의미한다. 즉 depth가 1이면 100에서 +1, -1, 숫자 하나 change 한 경우이다. 0: 100, 1:[99,101,102,104,105,106,107,108,109,200,400,...], 여기서부터 101은 2:[100,102,104,...] 이런식으로 전개되게 되고, 겹치는 수가 너무 많이 생기고 어려워진다."
      ]
    },
    {
      "cell_type": "markdown",
      "metadata": {
        "id": "o0TRJmeBo1rX"
      },
      "source": [
        "\r\n",
        "겹치는 수를 visited로 해결할 수는 있다. 어차피 처음 방문하는 depth가 가장 min일테니까. 진짜 문제는 굳이 이렇게까지 할 필요가 있느냐의 문제이다. bfs/dfs 탐색은 시작 노드에서 시작하여 연결성이 중요한 문제에서 사용되는 풀이이다. 하지만 이 문제는 시작노드에서부터 연결성이 중요한 문제는 아니며, 반복문이 필연적으로 여러 개 등장하게 되는 bfs 풀이방식보다 그냥 가능한 모든 숫자들을 돌면서(bruteforce) 최소 cnt를 찾는 게 간단하다."
      ]
    },
    {
      "cell_type": "markdown",
      "metadata": {
        "id": "yEHKdhFcp6Ud"
      },
      "source": [
        "bruteforce는 가능한 모든 수들을 체크하여야 하기때문에 기준을 문제에서 제시한 것보다 여유롭게 두는 것이 좋다. 문제의 채널 제한은 500000이었지만, 550000에서 줄어들어야하는 경우도 발생할 수 있고(나머지가 고장났을 경우) 그렇기 때문에 넉넉하게 잡는 것이 좋다."
      ]
    },
    {
      "cell_type": "code",
      "metadata": {
        "colab": {
          "base_uri": "https://localhost:8080/"
        },
        "id": "M3_XHcHaj2zu",
        "outputId": "c639ac04-bd31-4e7d-889c-5c3d7beb4f87"
      },
      "source": [
        "target = int(input())\r\n",
        "broken_cnt = int(input())\r\n",
        "if broken_cnt == 0:   \r\n",
        "  # 고장난 수가 0개일 경우에는 \r\n",
        "  # input().split(' ')를 처리할 때 eof 런타임 에러가 발생할 수 있다.\r\n",
        "  broken_nums = []\r\n",
        "else:\r\n",
        "  broken_nums = list(map(int, input().split(\" \")))\r\n",
        "min_cnt = abs(target-100)\r\n",
        "\r\n",
        "for i in range(1000000):\r\n",
        "  temp = str(i)\r\n",
        "  for j in range(len(temp)):\r\n",
        "    if int(temp[j]) in broken_nums:\r\n",
        "      break\r\n",
        "    if j==len(temp)-1:\r\n",
        "      min_cnt = min(min_cnt, abs(i-target)+len(temp))\r\n",
        "\r\n",
        "print(min_cnt)"
      ],
      "execution_count": 1,
      "outputs": [
        {
          "output_type": "stream",
          "text": [
            "5473\n",
            "2\n",
            "2 5\n",
            "478\n"
          ],
          "name": "stdout"
        }
      ]
    }
  ]
}