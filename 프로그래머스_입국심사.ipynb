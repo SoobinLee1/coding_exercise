{
  "nbformat": 4,
  "nbformat_minor": 0,
  "metadata": {
    "colab": {
      "name": "프로그래머스_입국심사.ipynb",
      "provenance": [],
      "collapsed_sections": [],
      "authorship_tag": "ABX9TyPCrjVTI5PC9IiRs5FG/q0L",
      "include_colab_link": true
    },
    "kernelspec": {
      "name": "python3",
      "display_name": "Python 3"
    }
  },
  "cells": [
    {
      "cell_type": "markdown",
      "metadata": {
        "id": "view-in-github",
        "colab_type": "text"
      },
      "source": [
        "<a href=\"https://colab.research.google.com/github/SoobinLee1/coding_exercise/blob/main/%ED%94%84%EB%A1%9C%EA%B7%B8%EB%9E%98%EB%A8%B8%EC%8A%A4_%EC%9E%85%EA%B5%AD%EC%8B%AC%EC%82%AC.ipynb\" target=\"_parent\"><img src=\"https://colab.research.google.com/assets/colab-badge.svg\" alt=\"Open In Colab\"/></a>"
      ]
    },
    {
      "cell_type": "code",
      "metadata": {
        "id": "ZswwOisANWni"
      },
      "source": [
        "def solution(n, times):\r\n",
        "    num_testers = len(times)\r\n",
        "    num_group = n//num_testers+1 if n%num_testers!=0 else n//num_testers\r\n",
        "    # last = n%num_testers if n%num_testers!=0 else num_testers\r\n",
        "    times = sorted(times)\r\n",
        "    end_times = []\r\n",
        "    left, right, cnt = 0, times[-1]*(num_group), 0\r\n",
        "    candidates = []\r\n",
        "    for t in times:\r\n",
        "        i = 0\r\n",
        "        while t*(i+1) <= right:\r\n",
        "            candidates.append([t*i,t*(i+1),0])\r\n",
        "            i+=1\r\n",
        "    candidates.sort(key=lambda x: x[1])\r\n",
        "    \r\n",
        "    while left<right:\r\n",
        "        pivot = (left+right)//2\r\n",
        "        for c in candidates:\r\n",
        "            if c[1]<=pivot and c[2]==0:\r\n",
        "                cnt+=1\r\n",
        "                c[2]=1\r\n",
        "                end_times.append(c[1])\r\n",
        "            if cnt>=n:\r\n",
        "                break\r\n",
        "        if cnt>=n:\r\n",
        "            break\r\n",
        "        left = pivot+1\r\n",
        "    answer = max(end_times)\r\n",
        "    return answer"
      ],
      "execution_count": null,
      "outputs": []
    }
  ]
}