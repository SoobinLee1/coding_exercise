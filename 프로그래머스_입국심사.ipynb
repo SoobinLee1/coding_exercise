{
  "nbformat": 4,
  "nbformat_minor": 0,
  "metadata": {
    "colab": {
      "name": "프로그래머스_입국심사.ipynb",
      "provenance": [],
      "collapsed_sections": [],
      "authorship_tag": "ABX9TyPwQpuZ71qEVVIea61OKO9f",
      "include_colab_link": true
    },
    "kernelspec": {
      "name": "python3",
      "display_name": "Python 3"
    }
  },
  "cells": [
    {
      "cell_type": "markdown",
      "metadata": {
        "id": "view-in-github",
        "colab_type": "text"
      },
      "source": [
        "<a href=\"https://colab.research.google.com/github/SoobinLee1/coding_exercise/blob/main/%ED%94%84%EB%A1%9C%EA%B7%B8%EB%9E%98%EB%A8%B8%EC%8A%A4_%EC%9E%85%EA%B5%AD%EC%8B%AC%EC%82%AC.ipynb\" target=\"_parent\"><img src=\"https://colab.research.google.com/assets/colab-badge.svg\" alt=\"Open In Colab\"/></a>"
      ]
    },
    {
      "cell_type": "markdown",
      "metadata": {
        "id": "-79F-5J8289X"
      },
      "source": [
        "# 이진탐색\r\n",
        "\r\n",
        "이진탐색임을 어떻게 알 수 있는가? 일단은 완전탐색이라는 점+bfs/dfs는 아니다+greedy도 아니다 라는 점에서 이진탐색임을 눈치채볼 수 있을 것같다. (하지만 이건 힌트 가지고 안거고, 몰랐으면 몰랐을 듯)\r\n",
        "\r\n",
        "이진탐색임을 알고 나면 문제는 쉬워진다. 이때 주의할 점은 pivot이 기준점 즉 답이 된다는 것을 알아야한다. pivot을 움직이면서 답을 찾아야지 아래처럼 본인만의 다른 답을 만드려고 하면 시간초과가 발생하더라.\r\n",
        "\r\n"
      ]
    },
    {
      "cell_type": "code",
      "metadata": {
        "id": "ZswwOisANWni"
      },
      "source": [
        "def first_solution(n, times):\r\n",
        "    num_testers = len(times)\r\n",
        "    num_group = n//num_testers+1 if n%num_testers!=0 else n//num_testers\r\n",
        "    # last = n%num_testers if n%num_testers!=0 else num_testers\r\n",
        "    times = sorted(times)\r\n",
        "    end_times = []\r\n",
        "    left, right, cnt = 0, times[-1]*(num_group), 0\r\n",
        "    candidates = []\r\n",
        "    for t in times:\r\n",
        "        i = 0\r\n",
        "        while t*(i+1) <= right:\r\n",
        "            candidates.append([t*i,t*(i+1),0])\r\n",
        "            i+=1\r\n",
        "    candidates.sort(key=lambda x: x[1])\r\n",
        "    \r\n",
        "    while left<right:\r\n",
        "        pivot = (left+right)//2\r\n",
        "        for c in candidates:\r\n",
        "            if c[1]<=pivot and c[2]==0:\r\n",
        "                cnt+=1\r\n",
        "                c[2]=1\r\n",
        "                end_times.append(c[1])\r\n",
        "            if cnt>=n:\r\n",
        "                break\r\n",
        "        if cnt>=n:\r\n",
        "            break\r\n",
        "        left = pivot+1\r\n",
        "    answer = max(end_times)\r\n",
        "    return answer"
      ],
      "execution_count": 1,
      "outputs": []
    },
    {
      "cell_type": "code",
      "metadata": {
        "id": "1cTiXOBP5ZTo"
      },
      "source": [
        "def solution(n, times):\r\n",
        "    answer = 0\r\n",
        "\r\n",
        "    leng = len(times)\r\n",
        "    left = 1\r\n",
        "    right = (leng+1) * max(times) # 최대 범위\r\n",
        "\r\n",
        "    while left <= right:\r\n",
        "        mid = (left + right) // 2\r\n",
        "\r\n",
        "        count = 0\r\n",
        "        for time in times:\r\n",
        "            count += mid // time\r\n",
        "            # 심사 인원수를 넘으면 다음 단계\r\n",
        "            if count >= n: break\r\n",
        "\r\n",
        "        # n명을 심사 할 수 있는 경우\r\n",
        "        # 한 심사관에게 주어진 시간을 줄여본다.\r\n",
        "        if count >= n:\r\n",
        "            answer = mid\r\n",
        "            right = mid - 1\r\n",
        "        # 없는 경우\r\n",
        "        elif count < n:\r\n",
        "            left = mid + 1\r\n",
        "\r\n",
        "    return answer"
      ],
      "execution_count": 2,
      "outputs": []
    }
  ]
}