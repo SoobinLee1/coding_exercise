{
  "nbformat": 4,
  "nbformat_minor": 0,
  "metadata": {
    "colab": {
      "name": "백준_2688_줄어들지않아.ipynb",
      "provenance": [],
      "collapsed_sections": [],
      "authorship_tag": "ABX9TyPBu7360EkCmu446Wfu2+RO",
      "include_colab_link": true
    },
    "kernelspec": {
      "name": "python3",
      "display_name": "Python 3"
    }
  },
  "cells": [
    {
      "cell_type": "markdown",
      "metadata": {
        "id": "view-in-github",
        "colab_type": "text"
      },
      "source": [
        "<a href=\"https://colab.research.google.com/github/SoobinLee1/coding_exercise/blob/main/%EB%B0%B1%EC%A4%80_2688_%EC%A4%84%EC%96%B4%EB%93%A4%EC%A7%80%EC%95%8A%EC%95%84.ipynb\" target=\"_parent\"><img src=\"https://colab.research.google.com/assets/colab-badge.svg\" alt=\"Open In Colab\"/></a>"
      ]
    },
    {
      "cell_type": "markdown",
      "metadata": {
        "id": "17HLZbpmhrHT"
      },
      "source": [
        "백준 동전나눠주기 문제와 거의 유사한 문제!\r\n",
        "풀이는 그 풀이 참고하면 됨"
      ]
    },
    {
      "cell_type": "code",
      "metadata": {
        "colab": {
          "base_uri": "https://localhost:8080/"
        },
        "id": "PHwHDbqBY8xd",
        "outputId": "fa0cbe08-c970-47eb-a217-ba542fbc6207"
      },
      "source": [
        "T = int(input())\r\n",
        "\r\n",
        "def dfs(depth, cur_num, n, dp):\r\n",
        "  if depth == n:\r\n",
        "    return 1\r\n",
        "  if dp[depth][cur_num]!=-1:\r\n",
        "    return dp[depth][cur_num]\r\n",
        "  dp[depth][cur_num]=0\r\n",
        "  for num in range(cur_num,10):\r\n",
        "    dp[depth][cur_num]+=dfs(depth+1, num, n, dp)\r\n",
        "  return dp[depth][cur_num]\r\n",
        "\r\n",
        "answer = [0]*T\r\n",
        "for t in range(0,T):\r\n",
        "  n = int(input())\r\n",
        "  dp = [[-1]*10 for _ in range(n)]\r\n",
        "  answer[t]=dfs(0,0,n,dp)\r\n",
        "\r\n",
        "print(answer)"
      ],
      "execution_count": 10,
      "outputs": [
        {
          "output_type": "stream",
          "text": [
            "3\n",
            "2\n",
            "3\n",
            "4\n",
            "[55, 220, 715]\n"
          ],
          "name": "stdout"
        }
      ]
    },
    {
      "cell_type": "code",
      "metadata": {
        "id": "4T5VGcHBeQpS"
      },
      "source": [
        ""
      ],
      "execution_count": null,
      "outputs": []
    }
  ]
}