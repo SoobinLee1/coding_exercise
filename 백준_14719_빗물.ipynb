{
  "nbformat": 4,
  "nbformat_minor": 0,
  "metadata": {
    "colab": {
      "name": "백준_14719_빗물",
      "provenance": [],
      "collapsed_sections": [],
      "authorship_tag": "ABX9TyPux0+IcJAN7qgjr70P6jk+"
    },
    "kernelspec": {
      "name": "python3",
      "display_name": "Python 3"
    }
  },
  "cells": [
    {
      "cell_type": "markdown",
      "metadata": {
        "id": "z5dBzLJdptLQ"
      },
      "source": [
        "## 백준_14719_빗물\r\n",
        "\r\n",
        "H와 W를 먼저 입력받고, 해당 숫자의 범위가 500이하로 그리 크지 않다. 따라서 두번 반복문을 돌리면서 벽이 있는 부분을 1, 벽이 없는 부분을 0이라고 하면서 행별로 벽 vs 빈 공간 이러한 식으로 한 줄씩, h번 반복하는 구조이다. 이때, 한 줄마다, 즉 한 행마다 1(벽) 사이에서 \"연결된\" 0의 개수를 답으로 출력한다.\r\n",
        "\r\n",
        "연결된 한 줄 내에서 1과 1 사이에서 연결된 0의 개수를 찾는 것이므로 bfs를 사용하여 구현하였다."
      ]
    },
    {
      "cell_type": "code",
      "metadata": {
        "id": "3THsRNaSpXkN"
      },
      "source": [
        "from collections import Counter\r\n",
        "\r\n",
        "H,W = map(int, input().split(\" \"))\r\n",
        "tiles = list(map(int,input().split(\" \")))\r\n",
        "answer = 0\r\n",
        "\r\n",
        "for h in range(1,H+1):\r\n",
        "  line = [0]*W\r\n",
        "  visited=[0]*W\r\n",
        "  for w in range(W):\r\n",
        "    if tiles[w]>=h:\r\n",
        "      line[w]=1\r\n",
        "  for l in range(len(line)-1):\r\n",
        "    if line[l]==1:\r\n",
        "      que = [l]\r\n",
        "      temps = []\r\n",
        "      while que:\r\n",
        "        temp = que.pop(0)\r\n",
        "        temps.append(temp)\r\n",
        "        if line[temp+1]==0:\r\n",
        "          if temp+1 == len(line)-1:\r\n",
        "            for t in temps:\r\n",
        "              visited[t]=0\r\n",
        "            break\r\n",
        "          print(h, temp+1)\r\n",
        "          visited[temp+1]=1\r\n",
        "          que.append(temp+1)\r\n",
        "  answer+= Counter(visited)[1]\r\n",
        "\r\n",
        "print(answer)"
      ],
      "execution_count": null,
      "outputs": []
    }
  ]
}