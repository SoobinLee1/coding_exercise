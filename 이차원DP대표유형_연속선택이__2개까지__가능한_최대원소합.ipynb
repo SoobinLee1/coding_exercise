{
  "nbformat": 4,
  "nbformat_minor": 0,
  "metadata": {
    "colab": {
      "name": "이차원DP대표유형_연속선택이 _2개까지 _가능한_최대원소합",
      "provenance": [],
      "collapsed_sections": [],
      "authorship_tag": "ABX9TyP/JKH4As53hpnMQrAQYhkK",
      "include_colab_link": true
    },
    "kernelspec": {
      "name": "python3",
      "display_name": "Python 3"
    }
  },
  "cells": [
    {
      "cell_type": "markdown",
      "metadata": {
        "id": "view-in-github",
        "colab_type": "text"
      },
      "source": [
        "<a href=\"https://colab.research.google.com/github/SoobinLee1/coding_exercise/blob/main/%EC%9D%B4%EC%B0%A8%EC%9B%90DP%EB%8C%80%ED%91%9C%EC%9C%A0%ED%98%95_%EC%97%B0%EC%86%8D%EC%84%A0%ED%83%9D%EC%9D%B4__2%EA%B0%9C%EA%B9%8C%EC%A7%80__%EA%B0%80%EB%8A%A5%ED%95%9C_%EC%B5%9C%EB%8C%80%EC%9B%90%EC%86%8C%ED%95%A9.ipynb\" target=\"_parent\"><img src=\"https://colab.research.google.com/assets/colab-badge.svg\" alt=\"Open In Colab\"/></a>"
      ]
    },
    {
      "cell_type": "markdown",
      "metadata": {
        "id": "-E4_8HXix_EF"
      },
      "source": [
        "## 연속 세 개 이상 선택할 수 없는 상황에서 선택된 원소들의 합이 가장 클 때 찾기"
      ]
    },
    {
      "cell_type": "markdown",
      "metadata": {
        "id": "YKnLHwQvyRpv"
      },
      "source": [
        "본인까지 누적된 개수는 최대 두 개이다. 따라서 dp 2차원 배열을 돌려서 본인까지 누적된 것이 1개, 2개일 때 각각 table값을 업데이트하고, 누적된 개수의 최대를 찾는다."
      ]
    },
    {
      "cell_type": "markdown",
      "metadata": {
        "id": "re2fThr6ySHg"
      },
      "source": [
        "![image.png](data:image/png;base64,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)"
      ]
    },
    {
      "cell_type": "code",
      "metadata": {
        "colab": {
          "base_uri": "https://localhost:8080/"
        },
        "id": "tuEtxodIs64Z",
        "outputId": "0c416c43-39f1-4040-9f10-26497aaecb8a"
      },
      "source": [
        "N = int(input())\r\n",
        "wine = []\r\n",
        "for i in range(N):\r\n",
        "    wine.append(int(input()))\r\n",
        "dp = [[0]*2 for i in range(N)]\r\n",
        "\r\n",
        "for i in range(N):\r\n",
        "    if i-2>=0:\r\n",
        "        dp[i][0]=max(dp[i-2])+wine[i]\r\n",
        "        dp[i][1]=dp[i-1][0]+wine[i]\r\n",
        "    elif i-1>=0:\r\n",
        "        dp[i][0]=wine[i]\r\n",
        "        dp[i][1]=dp[i-1][0]+wine[i]\r\n",
        "    else:\r\n",
        "        dp[i][0]=wine[i]\r\n",
        "        dp[i][1]=0\r\n",
        "        \r\n",
        "# 2차원 원소 배열에서 가장 큰 원소 하나 찾기\r\n",
        "max_wine = max(map(max, dp))\r\n",
        "print(max_wine)"
      ],
      "execution_count": 1,
      "outputs": [
        {
          "output_type": "stream",
          "text": [
            "5\n",
            "4\n",
            "7\n",
            "11\n",
            "2\n",
            "6\n",
            "24\n"
          ],
          "name": "stdout"
        }
      ]
    }
  ]
}