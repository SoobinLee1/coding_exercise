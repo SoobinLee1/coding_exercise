{
  "nbformat": 4,
  "nbformat_minor": 0,
  "metadata": {
    "colab": {
      "name": "미로탈출",
      "provenance": [],
      "collapsed_sections": [],
      "authorship_tag": "ABX9TyMVf+sYTsQ4at9JbJVKjtkj",
      "include_colab_link": true
    },
    "kernelspec": {
      "name": "python3",
      "display_name": "Python 3"
    }
  },
  "cells": [
    {
      "cell_type": "markdown",
      "metadata": {
        "id": "view-in-github",
        "colab_type": "text"
      },
      "source": [
        "<a href=\"https://colab.research.google.com/github/SoobinLee1/coding_exercise/blob/main/%EB%AF%B8%EB%A1%9C%ED%83%88%EC%B6%9C.ipynb\" target=\"_parent\"><img src=\"https://colab.research.google.com/assets/colab-badge.svg\" alt=\"Open In Colab\"/></a>"
      ]
    },
    {
      "cell_type": "code",
      "metadata": {
        "id": "A7kcG_Wli0IQ"
      },
      "source": [
        "import numpy as np\r\n",
        "\r\n",
        "graph = [[1,0,1,0,1,0],\r\n",
        "         [1,1,1,1,1,1],\r\n",
        "         [0,0,0,0,0,1],\r\n",
        "         [1,1,1,1,1,1],\r\n",
        "         [1,1,1,1,1,1]]\r\n",
        "\r\n",
        "n,m = 5,6\r\n",
        "visited = np.zeros((n,m))\r\n",
        "distance = np.ones((n,m))\r\n",
        "\r\n",
        "def maze_escape(row, col):\r\n",
        "  adj_dir = [(0,1),(0,-1),(1,0),(-1,0)]\r\n",
        "  adj_nodes=[]\r\n",
        "  adj_nodes.append((row,col))\r\n",
        "  visited[row][col]=1\r\n",
        "  \r\n",
        "  while adj_nodes[0]!=(n-1,m-1):\r\n",
        "    r,c = adj_nodes.pop(0)\r\n",
        "    visited[r][c]=1\r\n",
        "    flag=False\r\n",
        "\r\n",
        "    for dir_x, dir_y in adj_dir:\r\n",
        "      if r+dir_x<0 or r+dir_x>=n or c+dir_y<0 or c+dir_y>=m:\r\n",
        "        continue\r\n",
        "      if graph[r+dir_x][c+dir_y]==0 or visited[r+dir_x][c+dir_y]==1:\r\n",
        "        continue\r\n",
        "      if graph[r+dir_x][c+dir_y]==1 and visited[r+dir_x][c+dir_y]==0:\r\n",
        "        adj_nodes.append((r+dir_x,c+dir_y))\r\n",
        "        distance[r+dir_x][c+dir_y]=distance[r][c]+1\r\n",
        "\r\n",
        "  return distance[n-1][m-1]"
      ],
      "execution_count": 57,
      "outputs": []
    },
    {
      "cell_type": "code",
      "metadata": {
        "colab": {
          "base_uri": "https://localhost:8080/"
        },
        "id": "mRMpf7jSyLk5",
        "outputId": "119d384f-2c91-43ab-d50b-f5344d9df244"
      },
      "source": [
        "maze_escape(0,0)"
      ],
      "execution_count": 58,
      "outputs": [
        {
          "output_type": "execute_result",
          "data": {
            "text/plain": [
              "10.0"
            ]
          },
          "metadata": {
            "tags": []
          },
          "execution_count": 58
        }
      ]
    },
    {
      "cell_type": "code",
      "metadata": {
        "id": "rtkSqA3KyRl9"
      },
      "source": [
        ""
      ],
      "execution_count": null,
      "outputs": []
    }
  ]
}