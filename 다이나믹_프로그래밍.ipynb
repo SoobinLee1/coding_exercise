{
  "nbformat": 4,
  "nbformat_minor": 0,
  "metadata": {
    "colab": {
      "name": "다이나믹 프로그래밍",
      "provenance": [],
      "collapsed_sections": [],
      "authorship_tag": "ABX9TyNNFt4Kq2twUDeLhaiNLQio",
      "include_colab_link": true
    },
    "kernelspec": {
      "name": "python3",
      "display_name": "Python 3"
    }
  },
  "cells": [
    {
      "cell_type": "markdown",
      "metadata": {
        "id": "view-in-github",
        "colab_type": "text"
      },
      "source": [
        "<a href=\"https://colab.research.google.com/github/SoobinLee1/coding_exercise/blob/main/%EB%8B%A4%EC%9D%B4%EB%82%98%EB%AF%B9_%ED%94%84%EB%A1%9C%EA%B7%B8%EB%9E%98%EB%B0%8D.ipynb\" target=\"_parent\"><img src=\"https://colab.research.google.com/assets/colab-badge.svg\" alt=\"Open In Colab\"/></a>"
      ]
    },
    {
      "cell_type": "code",
      "metadata": {
        "id": "U_AONFIV84Ul"
      },
      "source": [
        "import numpy as np\r\n",
        "\r\n",
        "array = [1,3,3,2,2,1,4,1,0,6,4,7]\r\n",
        "def solution(n, m, input):\r\n",
        "  arr = np.zeros((n+2,m))\r\n",
        "  input = np.array(input).reshape((n,m))\r\n",
        "  arr[1:n+1,:]=input\r\n",
        "  for cur_col in range(1, m):\r\n",
        "    for cur_row in range(1,n+1):\r\n",
        "      arr[cur_row][cur_col] += max([arr[k][cur_col-1] for k in range (cur_row-1,cur_row+2)])\r\n",
        "  return max(arr[:][n])"
      ],
      "execution_count": 27,
      "outputs": []
    },
    {
      "cell_type": "code",
      "metadata": {
        "colab": {
          "base_uri": "https://localhost:8080/"
        },
        "id": "YNINhzA8Gc2t",
        "outputId": "8c145296-f8fe-4d46-cb85-1d4d3c69d4a8"
      },
      "source": [
        "solution(3,4,array)"
      ],
      "execution_count": 28,
      "outputs": [
        {
          "output_type": "execute_result",
          "data": {
            "text/plain": [
              "19.0"
            ]
          },
          "metadata": {
            "tags": []
          },
          "execution_count": 28
        }
      ]
    },
    {
      "cell_type": "code",
      "metadata": {
        "id": "K2k1XyoEGfsp"
      },
      "source": [
        ""
      ],
      "execution_count": null,
      "outputs": []
    }
  ]
}