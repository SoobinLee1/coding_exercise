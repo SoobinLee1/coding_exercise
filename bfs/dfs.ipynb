{
  "nbformat": 4,
  "nbformat_minor": 0,
  "metadata": {
    "colab": {
      "name": "Colaboratory에 오신 것을 환영합니다",
      "provenance": [],
      "collapsed_sections": [],
      "include_colab_link": true
    },
    "kernelspec": {
      "display_name": "Python 3",
      "name": "python3"
    }
  },
  "cells": [
    {
      "cell_type": "markdown",
      "metadata": {
        "id": "view-in-github",
        "colab_type": "text"
      },
      "source": [
        "<a href=\"https://colab.research.google.com/github/SoobinLee1/coding_exercise/blob/main/bfs/dfs.ipynb\" target=\"_parent\"><img src=\"https://colab.research.google.com/assets/colab-badge.svg\" alt=\"Open In Colab\"/></a>"
      ]
    },
    {
      "cell_type": "code",
      "metadata": {
        "id": "4ZgQNP_GeAFT",
        "outputId": "f0ed8ab8-aa8e-4de2-e86d-868ef047bcd3",
        "colab": {
          "base_uri": "https://localhost:8080/"
        }
      },
      "source": [
        "# 큐 구현\r\n",
        "from collections import deque\r\n",
        "\r\n",
        "queue = deque()\r\n",
        "\r\n",
        "queue.append(5)\r\n",
        "queue.append(2)\r\n",
        "queue.append(3)\r\n",
        "queue.append(7)\r\n",
        "queue.popleft()\r\n",
        "queue.append(1)\r\n",
        "queue.append(4)\r\n",
        "queue.popleft()\r\n",
        "\r\n",
        "print(queue) #먼저 들어온 순으로 출력\r\n",
        "queue.reverse()\r\n",
        "print(queue)  #나중에 들어온 순으로 출력\r\n"
      ],
      "execution_count": 1,
      "outputs": [
        {
          "output_type": "stream",
          "text": [
            "deque([3, 7, 1, 4])\n",
            "deque([4, 1, 7, 3])\n"
          ],
          "name": "stdout"
        }
      ]
    },
    {
      "cell_type": "code",
      "metadata": {
        "id": "MhFZA4XzeStT"
      },
      "source": [
        "#종료 조건을 포함한 재귀함수 - for 문 없이 반복되도록 만들 수 있음\r\n",
        "#호출(1,2,3,...)->종료(99,98,97,...)\r\n",
        "def recursive(i):\r\n",
        "  if i==100:\r\n",
        "    return\r\n",
        "  print(i,\"번째 재귀함수 호출\")\r\n",
        "  recursive(i+1)\r\n",
        "  print(i,\"번째 재귀함수 종료\")"
      ],
      "execution_count": 2,
      "outputs": []
    },
    {
      "cell_type": "code",
      "metadata": {
        "id": "exzgCLLUfCw8"
      },
      "source": [
        "recursive(1)"
      ],
      "execution_count": null,
      "outputs": []
    },
    {
      "cell_type": "code",
      "metadata": {
        "id": "ReHomIN6fD9r"
      },
      "source": [
        "#유클리안 호제법을 통한 재귀함수 연습\r\n",
        "def euclidean(A,B):\r\n",
        "  if A%B==0:\r\n",
        "    return B\r\n",
        "  else:\r\n",
        "    euclidean(B,A%B)"
      ],
      "execution_count": 7,
      "outputs": []
    },
    {
      "cell_type": "code",
      "metadata": {
        "id": "jJYvr0D7gNeK",
        "outputId": "232d6c64-b9fb-4241-be3c-6b0a8f06f618",
        "colab": {
          "base_uri": "https://localhost:8080/"
        }
      },
      "source": [
        "euclidean(192,162)"
      ],
      "execution_count": 8,
      "outputs": [
        {
          "output_type": "stream",
          "text": [
            "6\n"
          ],
          "name": "stdout"
        }
      ]
    },
    {
      "cell_type": "code",
      "metadata": {
        "id": "Go1uIIoQgWxf"
      },
      "source": [
        "#graph는 2차원 리스트로 표현하고, index=1부터 시작하는 경우가 있기 때문에 해당 내용 구현\r\n",
        "graph = [\r\n",
        "  [],\r\n",
        "  [2,3,8],\r\n",
        "  [1,7],\r\n",
        "  [1,4,5]         \r\n",
        "]\r\n",
        "visited = [False]*9  #노드가 1-8이므로 0을 포함하여 9개 만들어냄"
      ],
      "execution_count": 9,
      "outputs": []
    },
    {
      "cell_type": "code",
      "metadata": {
        "id": "qEW9tJ4ahj68"
      },
      "source": [
        "#dfs는 stack이나 재귀함수를 이용하여 구현\r\n",
        "def dfs(graph, v, visited):\r\n",
        "  visited[v]=True\r\n",
        "  for i in graph[v]:\r\n",
        "    if not visited[i]:\r\n",
        "      dfs(graph, i, visited)"
      ],
      "execution_count": 10,
      "outputs": []
    },
    {
      "cell_type": "code",
      "metadata": {
        "id": "iUPF2-TwiFCw"
      },
      "source": [
        "#bfs\r\n",
        "from collections import deque\r\n",
        "\r\n",
        "def bfs(graph, start, visited):\r\n",
        "  queue = deque([start])\r\n",
        "  visited[start]=True\r\n",
        "  while queue:\r\n",
        "    v = queue.popleft()\r\n",
        "    for i in graph[v]:\r\n",
        "      if not visited[i]:\r\n",
        "        queue.append(i)\r\n",
        "        visited[i]=True"
      ],
      "execution_count": 11,
      "outputs": []
    },
    {
      "cell_type": "code",
      "metadata": {
        "id": "izWVC93ooA_S"
      },
      "source": [
        "#본인이 0이면서 인접노드 모두 visited일때 answer+=1\r\n",
        "graph = [\r\n",
        "  [],\r\n",
        "  [2,6,7],\r\n",
        "  [1,3,6,7,8],\r\n",
        "  [2,4,7,8,9],\r\n",
        "  [3,5,8,9,10],\r\n",
        "  [4,9,10],\r\n",
        "  [1,2,7,11,12],\r\n",
        "  [1,2,3,6,8,11,12,13],\r\n",
        "  [2,3,4,7,9,12,13,14],\r\n",
        "  [3,4,5,8,10,13,14,15],\r\n",
        "  [4,5,9,14,15],\r\n",
        "  [6,7,12,16,17],\r\n",
        "  [6,7,8,11,13,16,17,18],\r\n",
        "  [7,8,9,12,14,17,18,19],\r\n",
        "  [8,9,10,13,15,18,19,20]\r\n",
        "  [9,10,14,19,20],\r\n",
        "  [11,12,17],\r\n",
        "  [11,12,13,16,18],\r\n",
        "  [12,13,14,17,19],\r\n",
        "  [13,14,15,18,20],\r\n",
        "  [14,15,19]         \r\n",
        "]\r\n",
        "\r\n",
        "ice = [[0,0,1,1,0],\r\n",
        "       [0,0,0,1,1],\r\n",
        "       [1,1,1,1,1],\r\n",
        "       [0,0,0,0,0]\r\n",
        "       ]\r\n",
        "\r\n",
        "import numpy as np\r\n",
        "\r\n",
        "def find_icecream(n,m,graph,ice):\r\n",
        "  que = deque([1])\r\n",
        "  vistied = [False]*(n*m+1)\r\n",
        "  visited[1]=True\r\n",
        "  np.transpose(ice,(n*m,))\r\n",
        "  while que:\r\n",
        "    v = que.popleft()\r\n",
        "    for i in graph[v]:\r\n",
        "      if not visited[i]:\r\n",
        "        visited[i]=True\r\n",
        "        que.append(i)"
      ],
      "execution_count": null,
      "outputs": []
    },
    {
      "cell_type": "code",
      "metadata": {
        "id": "VvyXYferJAIv"
      },
      "source": [
        ""
      ],
      "execution_count": null,
      "outputs": []
    }
  ]
}