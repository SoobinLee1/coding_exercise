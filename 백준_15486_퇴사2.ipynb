{
  "nbformat": 4,
  "nbformat_minor": 0,
  "metadata": {
    "colab": {
      "name": "백준_15486_퇴사2",
      "provenance": [],
      "collapsed_sections": [],
      "authorship_tag": "ABX9TyMMUh1ox84iSpp+eyLbakw3"
    },
    "kernelspec": {
      "name": "python3",
      "display_name": "Python 3"
    }
  },
  "cells": [
    {
      "cell_type": "markdown",
      "metadata": {
        "id": "CHrmfhaxQLD-"
      },
      "source": [
        "## DP\r\n",
        "\r\n",
        "처음에는 1일차부터 본인날짜를 골랐을 때+상담 지속기간을 계속더하면서 bfs방식으로 푸려고 했다."
      ]
    },
    {
      "cell_type": "markdown",
      "metadata": {
        "id": "NeiSLb5xfQjA"
      },
      "source": [
        "하지만 그 방식대로 진행한다면 계속하여 덮어쓰기해야하고, 반복 횟수가 많아질 것(애초에 입력 자체가 150만 개로 큰 편이라 시간 오버될 것) 따라서 덮어쓰기?-->dp?이렇게 진행하게 됨"
      ]
    },
    {
      "cell_type": "code",
      "metadata": {
        "id": "bmcaTV2DQKCb"
      },
      "source": [
        "N = int(input())\r\n",
        "days = [0]*(N+1)\r\n",
        "pays = [0]*(N+1)\r\n",
        "dp = [0]*(N+2)\r\n",
        "\r\n",
        "for i in range(1,N+1):\r\n",
        "  tmp = input().split(\" \")\r\n",
        "  days[i]=int(tmp[0])\r\n",
        "  pays[i]=int(tmp[1])\r\n",
        "\r\n",
        "curr_max = 0\r\n",
        "for i in range(1,N+1):\r\n",
        "  curr_max = max(curr_max, dp[i])\r\n",
        "  if i+days[i]>N+1:\r\n",
        "    continue\r\n",
        "  dp[i+days[i]]=max(curr_max+pays[i],dp[i+days[i]])\r\n",
        "print(max(dp))"
      ],
      "execution_count": null,
      "outputs": []
    }
  ]
}