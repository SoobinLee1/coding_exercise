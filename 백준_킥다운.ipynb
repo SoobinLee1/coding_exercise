{
  "nbformat": 4,
  "nbformat_minor": 0,
  "metadata": {
    "colab": {
      "name": "백준_킥다운",
      "provenance": [],
      "authorship_tag": "ABX9TyOpByxf++w/ROJ2GvZXg80A"
    },
    "kernelspec": {
      "name": "python3",
      "display_name": "Python 3"
    }
  },
  "cells": [
    {
      "cell_type": "markdown",
      "metadata": {
        "id": "QBMqsnUZ7A2I"
      },
      "source": [
        "## 백준_1195_킥다운\r\n",
        "\r\n",
        "슬라이딩 윈도우로 짧은 도막이 긴 도막 위를 움직이면서 특정 패턴(둘 다 2인 경우)이 발생하는 경우 break로 탈출하여 윈도우 시작 위치 변경."
      ]
    },
    {
      "cell_type": "code",
      "metadata": {
        "colab": {
          "base_uri": "https://localhost:8080/"
        },
        "id": "NgNfHucH6_k9",
        "outputId": "89185861-0813-4670-96aa-2c4e144c144f"
      },
      "source": [
        "gear1 = input()\r\n",
        "gear2 = input()\r\n",
        "longer = gear1 if len(gear1)>len(gear2) else gear2\r\n",
        "shorter = gear1 if len(gear1)<len(gear2) else gear2\r\n",
        "margin = ' '*len(shorter)\r\n",
        "original_longer = len(longer)\r\n",
        "longer = margin+longer+margin\r\n",
        "start, end = len(margin), len(longer)-len(margin)\r\n",
        "min_width=len(longer)\r\n",
        "\r\n",
        "for i in range(len(longer)-len(margin)):\r\n",
        "  temp = list(shorter)\r\n",
        "  longer_idx = i\r\n",
        "  while temp:\r\n",
        "    if temp.pop(0)=='2' and longer[longer_idx]=='2':\r\n",
        "      break\r\n",
        "    if temp==[]:\r\n",
        "      x = start-i if start>i else 0\r\n",
        "      y = i-end if i>end else 0\r\n",
        "      min_width = min(min_width, x+y+original_longer)\r\n",
        "    longer_idx+=1\r\n",
        "print(min_width)"
      ],
      "execution_count": 1,
      "outputs": [
        {
          "output_type": "stream",
          "text": [
            "2112112112\n",
            "2212112\n",
            "10\n"
          ],
          "name": "stdout"
        }
      ]
    },
    {
      "cell_type": "code",
      "metadata": {
        "id": "rwRmzZ1V7dQ3"
      },
      "source": [
        ""
      ],
      "execution_count": null,
      "outputs": []
    }
  ]
}