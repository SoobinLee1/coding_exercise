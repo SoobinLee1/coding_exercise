{
  "nbformat": 4,
  "nbformat_minor": 0,
  "metadata": {
    "colab": {
      "name": "프로그래머스_카펫",
      "provenance": [],
      "collapsed_sections": [],
      "authorship_tag": "ABX9TyOGyPQXwYu5LKbrOw6tv1hJ"
    },
    "kernelspec": {
      "name": "python3",
      "display_name": "Python 3"
    }
  },
  "cells": [
    {
      "cell_type": "code",
      "metadata": {
        "id": "R6wbTliv6eF8"
      },
      "source": [
        "# 프로그래머스_카펫\r\n",
        "\r\n",
        "def solution(brown, yellow):\r\n",
        "    answer = []\r\n",
        "    for i in range(1,yellow+1):\r\n",
        "        if yellow%i==0:\r\n",
        "            answer.append((max(i, yellow//i), min(i,yellow//i)))\r\n",
        "    \r\n",
        "    answer = list(set(answer))\r\n",
        "    for a in answer:\r\n",
        "        if a[0]*2+a[1]*2+4 == brown:\r\n",
        "            return [a[0]+2, a[1]+2]"
      ],
      "execution_count": null,
      "outputs": []
    }
  ]
}