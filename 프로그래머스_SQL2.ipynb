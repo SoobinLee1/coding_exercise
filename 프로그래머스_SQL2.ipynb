{
  "nbformat": 4,
  "nbformat_minor": 0,
  "metadata": {
    "colab": {
      "name": "프로그래머스_SQL.ipynb",
      "provenance": [],
      "collapsed_sections": [],
      "authorship_tag": "ABX9TyN7/dayK0azpDAVjl3CSeMW"
    },
    "kernelspec": {
      "name": "python3",
      "display_name": "Python 3"
    }
  },
  "cells": [
    {
      "cell_type": "markdown",
      "metadata": {
        "id": "6TvXDaJNPurW"
      },
      "source": [
        "## 두 테이블 JOIN 후 값을 비교하여 해당하는 데이터만 추출하기"
      ]
    },
    {
      "cell_type": "code",
      "metadata": {
        "id": "mF9CS-kEPssS"
      },
      "source": [
        "-- 코드를 입력하세요\r\n",
        "SELECT INS.ANIMAL_ID, INS.NAME\r\n",
        "FROM ANIMAL_INS INS INNER JOIN ANIMAL_OUTS OUTS \r\n",
        "ON INS.ANIMAL_ID = OUTS.ANIMAL_ID\r\n",
        "WHERE INS.DATETIME > OUTS.DATETIME\r\n",
        "ORDER BY INS.DATETIME ASC"
      ],
      "execution_count": null,
      "outputs": []
    },
    {
      "cell_type": "markdown",
      "metadata": {
        "id": "EUvVTlKuTt4O"
      },
      "source": [
        "## 상위 N개 데이터 조회하기\r\n",
        "ORDER BY ( ) LIMIT (N)"
      ]
    },
    {
      "cell_type": "code",
      "metadata": {
        "id": "MurPUkN6Typ8"
      },
      "source": [
        "-- 코드를 입력하세요\r\n",
        "SELECT INS.NAME, INS.DATETIME\r\n",
        "FROM ANIMAL_INS INS LEFT OUTER JOIN ANIMAL_OUTS OUTS\r\n",
        "ON INS.ANIMAL_ID = OUTS.ANIMAL_ID\r\n",
        "WHERE OUTS.ANIMAL_ID IS NULL\r\n",
        "ORDER BY INS.DATETIME ASC LIMIT 3"
      ],
      "execution_count": null,
      "outputs": []
    },
    {
      "cell_type": "markdown",
      "metadata": {
        "id": "wrx3MveHWnKb"
      },
      "source": [
        "## WHERE 절 조건 2개 혼합 및 특정 문자열 포함 여부 확인(LIKE)"
      ]
    },
    {
      "cell_type": "code",
      "metadata": {
        "id": "tpVYU8bkWuxo"
      },
      "source": [
        "-- 코드를 입력하세요\r\n",
        "SELECT INS.ANIMAL_ID, INS.ANIMAL_TYPE, INS.NAME\r\n",
        "FROM ANIMAL_INS INS INNER JOIN ANIMAL_OUTS OUTS\r\n",
        "ON INS.ANIMAL_ID = OUTS.ANIMAL_ID\r\n",
        "WHERE INS.SEX_UPON_INTAKE LIKE 'Intact%' AND OUTS.SEX_UPON_OUTCOME NOT LIKE 'Intact%'"
      ],
      "execution_count": null,
      "outputs": []
    },
    {
      "cell_type": "markdown",
      "metadata": {
        "id": "SeaCL2dCaTlw"
      },
      "source": [
        "## 대소문자 구분되는 데이터 값에서 특정 문자 포함 여부 판단\r\n",
        "\r\n",
        "모두 소문자화(LOWER), 혹은 대문자화(UPPER)하여 찾는다."
      ]
    },
    {
      "cell_type": "code",
      "metadata": {
        "id": "YrUvfVqJaBOJ"
      },
      "source": [
        "-- 코드를 입력하세요\r\n",
        "SELECT ANIMAL_ID, NAME\r\n",
        "FROM ANIMAL_INS\r\n",
        "WHERE ANIMAL_TYPE = 'Dog' AND LOWER(NAME) LIKE '%el%'\r\n",
        "ORDER BY NAME ASC"
      ],
      "execution_count": null,
      "outputs": []
    },
    {
      "cell_type": "markdown",
      "metadata": {
        "id": "vAy-Cir1YNaq"
      },
      "source": [
        "## WHERE절 조건 여러 개 중 하나 리스트"
      ]
    },
    {
      "cell_type": "code",
      "metadata": {
        "id": "mRv4Clj5YS8S"
      },
      "source": [
        "-- 코드를 입력하세요\r\n",
        "SELECT ANIMAL_ID, NAME, SEX_UPON_INTAKE\r\n",
        "FROM ANIMAL_INS\r\n",
        "WHERE NAME IN ('Ella', 'Lucy','Pickle', 'Rogan', 'Sabrina', 'Mitty')\r\n",
        "ORDER BY ANIMAL_ID ASC"
      ],
      "execution_count": null,
      "outputs": []
    }
  ]
}