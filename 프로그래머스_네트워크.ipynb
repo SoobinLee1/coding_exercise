{
  "nbformat": 4,
  "nbformat_minor": 0,
  "metadata": {
    "colab": {
      "name": "프로그래머스_네트워크",
      "provenance": [],
      "collapsed_sections": [],
      "authorship_tag": "ABX9TyOEA/ctXidGKiudQ1yFh9gC"
    },
    "kernelspec": {
      "name": "python3",
      "display_name": "Python 3"
    }
  },
  "cells": [
    {
      "cell_type": "markdown",
      "metadata": {
        "id": "m3Mti0XNIhI7"
      },
      "source": [
        "# 완전탐색 - bfs/dfs\r\n",
        "\r\n",
        "네트워크란 컴퓨터 상호 간에 정보를 교환할 수 있도록 연결된 형태를 의미합니다. 예를 들어, 컴퓨터 A와 컴퓨터 B가 직접적으로 연결되어있고, 컴퓨터 B와 컴퓨터 C가 직접적으로 연결되어 있을 때 컴퓨터 A와 컴퓨터 C도 간접적으로 연결되어 정보를 교환할 수 있습니다. 따라서 컴퓨터 A, B, C는 모두 같은 네트워크 상에 있다고 할 수 있습니다.\r\n",
        "\r\n",
        "컴퓨터의 개수 n, 연결에 대한 정보가 담긴 2차원 배열 computers가 매개변수로 주어질 때, 네트워크의 개수를 return 하도록 solution 함수를 작성하시오."
      ]
    },
    {
      "cell_type": "code",
      "metadata": {
        "id": "K0sC6GKzIcRh"
      },
      "source": [
        "def solution(n, computers):\r\n",
        "    answer = 0\r\n",
        "    visited = [0]*n\r\n",
        "    \r\n",
        "    for i in range(n):\r\n",
        "        if visited[i]==0:\r\n",
        "            answer+=1\r\n",
        "            visited[i]=1\r\n",
        "            adj = [i]\r\n",
        "            while adj:\r\n",
        "                node = adj.pop(0)\r\n",
        "                for j in range(n):\r\n",
        "                    if visited[j]==0 and computers[node][j]==1:\r\n",
        "                        visited[j]=1\r\n",
        "                        adj.append(j)\r\n",
        "    return answer"
      ],
      "execution_count": null,
      "outputs": []
    }
  ]
}