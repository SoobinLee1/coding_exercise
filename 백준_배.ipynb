{
  "nbformat": 4,
  "nbformat_minor": 0,
  "metadata": {
    "colab": {
      "name": "백준_배",
      "provenance": [],
      "authorship_tag": "ABX9TyONYFs6ZEqSdsFNpNzyCyfA"
    },
    "kernelspec": {
      "name": "python3",
      "display_name": "Python 3"
    }
  },
  "cells": [
    {
      "cell_type": "markdown",
      "metadata": {
        "id": "06ux0LgGcWQz"
      },
      "source": [
        "## Greedy 알고리즘으로 접근"
      ]
    },
    {
      "cell_type": "code",
      "metadata": {
        "id": "fn0GAEx_aY0e"
      },
      "source": [
        "# greeedy alg\r\n",
        "N = int(input())\r\n",
        "cranes = [0]*N\r\n",
        "temp = input().split(\" \")\r\n",
        "\r\n",
        "for i in range(N):\r\n",
        "  cranes[i]=float(temp[i])\r\n",
        "cranes.sort(reverse=True)\r\n",
        "\r\n",
        "M = int(input())\r\n",
        "remains = list(map(float,input().split(\" \")))\r\n",
        "remains.sort(reverse=True)\r\n",
        "global cnt\r\n",
        "cnt = 1\r\n",
        "\r\n",
        "def determine(cranes, remains):\r\n",
        "  if cranes[0]<remains[0]:\r\n",
        "    return -1\r\n",
        "\r\n",
        "  global cnt\r\n",
        "  while remains != []:\r\n",
        "    for c in cranes:\r\n",
        "      for r in remains:\r\n",
        "        if c>=r:\r\n",
        "          remains.remove(r)\r\n",
        "        if remains ==[]:\r\n",
        "          break\r\n",
        "    cnt+=1\r\n",
        "  return cnt\r\n",
        "\r\n",
        "print(determine(cranes, remains))\r\n",
        "\r\n"
      ],
      "execution_count": null,
      "outputs": []
    }
  ]
}