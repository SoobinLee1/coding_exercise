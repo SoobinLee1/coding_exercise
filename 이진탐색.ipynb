{
  "nbformat": 4,
  "nbformat_minor": 0,
  "metadata": {
    "colab": {
      "name": "이진탐색",
      "provenance": [],
      "authorship_tag": "ABX9TyN2MeBE6/cUFpdIL++t0di+",
      "include_colab_link": true
    },
    "kernelspec": {
      "name": "python3",
      "display_name": "Python 3"
    }
  },
  "cells": [
    {
      "cell_type": "markdown",
      "metadata": {
        "id": "view-in-github",
        "colab_type": "text"
      },
      "source": [
        "<a href=\"https://colab.research.google.com/github/SoobinLee1/coding_exercise/blob/main/%EC%9D%B4%EC%A7%84%ED%83%90%EC%83%89.ipynb\" target=\"_parent\"><img src=\"https://colab.research.google.com/assets/colab-badge.svg\" alt=\"Open In Colab\"/></a>"
      ]
    },
    {
      "cell_type": "markdown",
      "metadata": {
        "id": "DrDvK1DD95od"
      },
      "source": [
        "# 이진 탐색"
      ]
    },
    {
      "cell_type": "markdown",
      "metadata": {
        "id": "K7c_JkHsBS8V"
      },
      "source": [
        "###예시 문제"
      ]
    },
    {
      "cell_type": "markdown",
      "metadata": {
        "id": "q9QTvNtPHnBj"
      },
      "source": [
        "떡볶이 떡 자르기 문제에서 떡볶이 떡의 높이가 0~10억이므로 이렇게 큰 탐색범위를 보면 가장 먼저 이진탐색을 떠올려야한다!"
      ]
    },
    {
      "cell_type": "code",
      "metadata": {
        "id": "i6zXRGNU-2ja"
      },
      "source": [
        "import numpy as np\r\n",
        "from bisect import bisect_right\r\n",
        "\r\n",
        "def solution(N, M, array):\r\n",
        "  array.sort(reverse=False)\r\n",
        "  weighted_sum=0\r\n",
        "  pivot = array[-1]\r\n",
        "  while weighted_sum<M:\r\n",
        "    pivot -= 1\r\n",
        "    weighted_sum=0\r\n",
        "    idx = bisect_right(array,pivot)\r\n",
        "    temp_arr = array[idx:]\r\n",
        "    print(temp_arr)\r\n",
        "    weighted_sum = sum(temp_arr)-len(temp_arr)*pivot \r\n",
        "  return pivot"
      ],
      "execution_count": 35,
      "outputs": []
    },
    {
      "cell_type": "code",
      "metadata": {
        "colab": {
          "base_uri": "https://localhost:8080/"
        },
        "id": "emWDSIXNBhPG",
        "outputId": "168c4b76-5c78-41cf-832f-e48d6d94b500"
      },
      "source": [
        "solution(4,6,[19,15,10,17])"
      ],
      "execution_count": 36,
      "outputs": [
        {
          "output_type": "stream",
          "text": [
            "[19]\n",
            "[19]\n",
            "[17, 19]\n",
            "[17, 19]\n"
          ],
          "name": "stdout"
        },
        {
          "output_type": "execute_result",
          "data": {
            "text/plain": [
              "15"
            ]
          },
          "metadata": {
            "tags": []
          },
          "execution_count": 36
        }
      ]
    },
    {
      "cell_type": "markdown",
      "metadata": {
        "id": "BUzIize-K5SV"
      },
      "source": [
        "이렇게 접근하면 pivot을 하나씩 증가하게 되는 것이므로 불필요한 반복이 더 생기게 될 수 있음.\r\n",
        "\r\n",
        "따라서 pivot을 반띵하여 접근하는 그런 접근법, 이진탐색 접근법이 필요함. 특히 여기서는 인덱스로 접근하면 해당 array에 포함된 숫자 밖에 기준이 될 수 없기 때문에 index가 아닌 숫자 값 자체를 기준으로 받음"
      ]
    },
    {
      "cell_type": "code",
      "metadata": {
        "id": "D-fclHPgFeB_"
      },
      "source": [
        "def binary_search_sol(N,M,array):\r\n",
        "  start = 0\r\n",
        "  end = max(array)\r\n",
        "  result = 0\r\n",
        "  while start<=end:\r\n",
        "    middle = (start+end)//2\r\n",
        "    weighted_sum = sum([x-middle for x in array if x>middle])\r\n",
        "    if weighted_sum>=M:\r\n",
        "      start = middle+1\r\n",
        "      result = middle\r\n",
        "    elif weighted_sum<M:\r\n",
        "      end = middle-1\r\n",
        "  return result"
      ],
      "execution_count": 42,
      "outputs": []
    },
    {
      "cell_type": "code",
      "metadata": {
        "colab": {
          "base_uri": "https://localhost:8080/"
        },
        "id": "zUA5e-niRmB1",
        "outputId": "554ce2df-f2d6-416e-89b0-b00085e27ca4"
      },
      "source": [
        "binary_search_sol(4,6,[19,15,10,17])"
      ],
      "execution_count": 43,
      "outputs": [
        {
          "output_type": "execute_result",
          "data": {
            "text/plain": [
              "15"
            ]
          },
          "metadata": {
            "tags": []
          },
          "execution_count": 43
        }
      ]
    },
    {
      "cell_type": "markdown",
      "metadata": {
        "id": "ovfNN2aqUGdQ"
      },
      "source": [
        "### 예시 문제2"
      ]
    },
    {
      "cell_type": "markdown",
      "metadata": {
        "id": "KIJAE5mf-ARS"
      },
      "source": [
        "array가 오름차순정렬되어 있다는 가정 하에, 특정 범위 안에 속하는 데이터 개수 구하는 방식에 해당함."
      ]
    },
    {
      "cell_type": "code",
      "metadata": {
        "colab": {
          "base_uri": "https://localhost:8080/"
        },
        "id": "1H7UjQQB7I2g",
        "outputId": "e1654297-2d5f-4995-8c0b-719d21db6aa8"
      },
      "source": [
        "from bisect import bisect_left, bisect_right\r\n",
        "\r\n",
        "def count_by_range(array, left_value, right_value):\r\n",
        "  right_idx = bisect_right(array,right_value)\r\n",
        "  left_idx = bisect_left(array, left_value)\r\n",
        "  return right_idx - left_idx\r\n",
        "\r\n",
        "array = [1,2,33,4,3,3,3,3,3,4,6,3,5]\r\n",
        "array.sort(reverse=False)\r\n",
        "count_by_range(array,3,3)  # 값이 3인 데이터 개수 출력"
      ],
      "execution_count": 2,
      "outputs": [
        {
          "output_type": "execute_result",
          "data": {
            "text/plain": [
              "6"
            ]
          },
          "metadata": {
            "tags": []
          },
          "execution_count": 2
        }
      ]
    },
    {
      "cell_type": "markdown",
      "metadata": {
        "id": "v9JTqpR3UXRh"
      },
      "source": [
        "오름차순으로 정렬된 수열이 있을 때, 이 수열에서 X가 등장하는 횟수를 계산하세요. 단 시간 복잡도 O(logN) 이하로 설계해야합니다.\r\n",
        "\r\n",
        "내장 라이브러리를 사용하여 logN 의 시간복잡도를 가진 알고리즘을 설계할 수 있다."
      ]
    },
    {
      "cell_type": "code",
      "metadata": {
        "id": "miKyOQQQRpeH"
      },
      "source": [
        "from bisect import bisect_right, bisect_left\r\n",
        "\r\n",
        "def logN_sort(array,x):\r\n",
        "  right = bisect_right(array,x)\r\n",
        "  left = bisect_left(array, x)\r\n",
        "  return right-left"
      ],
      "execution_count": 44,
      "outputs": []
    },
    {
      "cell_type": "code",
      "metadata": {
        "colab": {
          "base_uri": "https://localhost:8080/"
        },
        "id": "eTgH9OjDY5Es",
        "outputId": "ec729557-c725-41e6-ef2a-48dc36f6118c"
      },
      "source": [
        "array = [1,2,2,3,4,5,6]\r\n",
        "logN_sort(array,2)"
      ],
      "execution_count": 45,
      "outputs": [
        {
          "output_type": "execute_result",
          "data": {
            "text/plain": [
              "2"
            ]
          },
          "metadata": {
            "tags": []
          },
          "execution_count": 45
        }
      ]
    }
  ]
}