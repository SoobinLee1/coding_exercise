{
  "nbformat": 4,
  "nbformat_minor": 0,
  "metadata": {
    "colab": {
      "name": "백준_2228_구간나누기",
      "provenance": [],
      "authorship_tag": "ABX9TyNAyaZ7QeHREgGhW9hKn1kZ"
    },
    "kernelspec": {
      "name": "python3",
      "display_name": "Python 3"
    }
  },
  "cells": [
    {
      "cell_type": "markdown",
      "metadata": {
        "id": "iwC4CAP7x-bs"
      },
      "source": [
        "## dp\r\n",
        "\r\n",
        "앞 상황에 일부 dependent 한 dp 문제이다. 예를들어 보자. \r\n",
        "\r\n",
        "> 1) 현재 원소(1) + 그 앞 원소까지 m-1개의 그룹까지의 합\r\n",
        "\r\n",
        "> 2)현재 원소 전까지 m개 그룹이 완료되었을 경우\r\n",
        "\r\n",
        " \r\n",
        "이러한 식으로 경우가 나뉘어 생각될 수 있다."
      ]
    },
    {
      "cell_type": "markdown",
      "metadata": {
        "id": "QrHPXEzaz3t4"
      },
      "source": [
        "재귀적으로 N번째 원소부터 -1씩 되면서 차례차례 1), 2) 경우에 대해 모두 체크하면서 max 값을 찾아내면 이 문제를 해결할 수 있다."
      ]
    },
    {
      "cell_type": "code",
      "metadata": {
        "id": "huU5ygALxo8X"
      },
      "source": [
        "N,M = map(int,input().split(\" \"))\r\n",
        "global input_arr\r\n",
        "input_arr = [-32769]*(N+1)\r\n",
        "for n in range(N):\r\n",
        "  input_arr[n+1] = int(input())\r\n",
        "global dp\r\n",
        "dp = [[-1]*(M+1) for _ in range(N+1)]\r\n",
        "MIN = -3276800\r\n",
        "\r\n",
        "def calc(n,m):\r\n",
        "  global input_arr\r\n",
        "  if m == 0:\r\n",
        "    return 0\r\n",
        "  if n<=0:\r\n",
        "    return MIN\r\n",
        "  if dp[n][m]!=-1:\r\n",
        "    return dp[n][m]\r\n",
        "\r\n",
        "  dp[n][m] = calc(n-1,m)\r\n",
        "  sum = 0\r\n",
        "  for i in range(n,0,-1):\r\n",
        "    sum+=input_arr[i]\r\n",
        "    temp = calc(i-2, m-1)+sum\r\n",
        "    if dp[n][m] < temp:\r\n",
        "      dp[n][m]=temp\r\n",
        "      \r\n",
        "  return dp[n][m]\r\n",
        "\r\n",
        "print(calc(N,M))"
      ],
      "execution_count": null,
      "outputs": []
    }
  ]
}