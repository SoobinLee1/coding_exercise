{
  "nbformat": 4,
  "nbformat_minor": 0,
  "metadata": {
    "colab": {
      "name": "프로그래머스_등굣길.ipynb",
      "provenance": [],
      "collapsed_sections": [],
      "authorship_tag": "ABX9TyO74CO7SOYel7rxuCZWxGft"
    },
    "kernelspec": {
      "name": "python3",
      "display_name": "Python 3"
    }
  },
  "cells": [
    {
      "cell_type": "code",
      "metadata": {
        "id": "ez9BJ1l4EkMh"
      },
      "source": [
        "def solution(m, n, puddles):\r\n",
        "    road = [1]*(m*n)\r\n",
        "    pud = []\r\n",
        "    for p in puddles:\r\n",
        "        location = n*(p[0]-1)+p[1]-1\r\n",
        "        pud.append(location)\r\n",
        "        road[location] = 0\r\n",
        "        \r\n",
        "    for i in range(m*n):\r\n",
        "        if i in pud:\r\n",
        "            road[i]=0\r\n",
        "            continue\r\n",
        "        row, col = i//n, i%n\r\n",
        "        if row-1<0: \r\n",
        "            road[i] =road[n*row+col-1]\r\n",
        "        elif col-1<0:\r\n",
        "            road[i]=road[n*(row-1)+col]\r\n",
        "        elif row-1>=0 and col-1>=0:\r\n",
        "            road[i] = (road[n*(row-1)+col]+road[n*row+col-1])%1000000007\r\n",
        "    return road[m*n-1]\r\n",
        "\r\n",
        "\r\n",
        "\r\n",
        "# print(solution(7, 4, [[2, 1], [2, 2], [2, 3], [4, 2], [4, 3], [4, 4], [6, 2], [6, 3]]), 0)  # 이 값이 잘 나오면 테스트1, 테스트9 통과, 위로 가면 안됨\r\n",
        "# print(solution(2, 2, []),2)\r\n",
        "# print(solution(3, 3, []), 6)\r\n",
        "# print(solution(3, 3, [[2, 3]]), 3)\r\n",
        "# print(solution(3, 3, [[1, 3]]), 5)\r\n",
        "# print(solution(4, 4, [[3, 2], [2, 4]]), 7)\r\n",
        "# print(solution(100, 100, []), 690285631)\r\n",
        "\r\n",
        "# print(solution(3, 3, [[1, 3], [3, 1]]), 4)\r\n",
        "# print(solution(3, 3, [[1, 3], [3, 1], [2, 3]]), 2)\r\n",
        "# print(solution(3, 3, [[1, 3], [3, 1], [2, 3], [2, 1]]), 1)"
      ],
      "execution_count": 1,
      "outputs": []
    }
  ]
}