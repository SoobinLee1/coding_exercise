{
  "nbformat": 4,
  "nbformat_minor": 0,
  "metadata": {
    "colab": {
      "name": "Colaboratory에 오신 것을 환영합니다",
      "provenance": [],
      "collapsed_sections": [],
      "include_colab_link": true
    },
    "kernelspec": {
      "display_name": "Python 3",
      "name": "python3"
    }
  },
  "cells": [
    {
      "cell_type": "markdown",
      "metadata": {
        "id": "view-in-github",
        "colab_type": "text"
      },
      "source": [
        "<a href=\"https://colab.research.google.com/github/SoobinLee1/coding_exercise/blob/main/%EC%9D%B4%EC%BD%94%ED%85%8C_1greedy.ipynb\" target=\"_parent\"><img src=\"https://colab.research.google.com/assets/colab-badge.svg\" alt=\"Open In Colab\"/></a>"
      ]
    },
    {
      "cell_type": "code",
      "metadata": {
        "id": "L0RYC5bFNFg2"
      },
      "source": [
        "# 어떻게 greedy? - 현 상태에서 조건에 따라 방식이 달라짐\r\n",
        "# 우선순위까지 있음- n을 항상 k로 나누는 것이 최적의 해를 구할 수 있는 것이기 때문에\r\n",
        "# 우선순위 있는 greedy, 즉 k로 가장 많이 나누어지도록 조건을 맞추는 게 필요\r\n",
        "# n이 작을 때는 매번 수행마다 n이 4로 나눠떨어지는 지 확인하고 return해도 되지만,\r\n",
        "# n이 클때는 k로 나누어 떨어지도록 greedy하게 푸는 것이 log시간 복잡도를 갖게되어 더 빠름\r\n",
        "\r\n",
        "def solution(n,k):\r\n",
        "  cnt=0\r\n",
        "  while True:\r\n",
        "    temp = (n//k)*k\r\n",
        "    cnt += n-temp\r\n",
        "    n//=k\r\n",
        "    cnt+=1\r\n",
        "    if n==1:\r\n",
        "      return cnt\r\n",
        "\r\n",
        "def when_n_is_small_solution(n,k):\r\n",
        "    cnt=0\r\n",
        "    while n!=1:\r\n",
        "      if n%4==0:\r\n",
        "        # //표시는 나누고 남은 몫의 정수형태\r\n",
        "        n=n//4\r\n",
        "      else:\r\n",
        "        n-=1\r\n",
        "      cnt+=1\r\n",
        "    return cnt"
      ],
      "execution_count": 11,
      "outputs": []
    },
    {
      "cell_type": "code",
      "metadata": {
        "id": "pa-9PObCNasX",
        "outputId": "60dc1288-c9b8-45c9-ca7f-807006370ef9",
        "colab": {
          "base_uri": "https://localhost:8080/"
        }
      },
      "source": [
        "solution(25,4)"
      ],
      "execution_count": 13,
      "outputs": [
        {
          "output_type": "execute_result",
          "data": {
            "text/plain": [
              "5"
            ]
          },
          "metadata": {
            "tags": []
          },
          "execution_count": 13
        }
      ]
    },
    {
      "cell_type": "code",
      "metadata": {
        "id": "d0hIhoeiNhgj"
      },
      "source": [
        "# 왜 greedy? 현재상태에서 조건에 따라 + or *로 방식이 달라짐\r\n",
        "def solution(s):\r\n",
        "  answer = int(s[0])\r\n",
        "  for i in s[1:]:\r\n",
        "    if i=='0' or i=='1':\r\n",
        "      answer+=int(i)\r\n",
        "    else: \r\n",
        "      answer*=int(i)\r\n",
        "    print(answer)\r\n",
        "  return answer"
      ],
      "execution_count": 25,
      "outputs": []
    },
    {
      "cell_type": "code",
      "metadata": {
        "id": "GSgx5PnrWEq2",
        "outputId": "aa96221d-3596-443c-d6bc-1f4e70f10079",
        "colab": {
          "base_uri": "https://localhost:8080/"
        }
      },
      "source": [
        "solution(\"01253\")"
      ],
      "execution_count": 26,
      "outputs": [
        {
          "output_type": "stream",
          "text": [
            "1\n",
            "2\n",
            "10\n",
            "30\n"
          ],
          "name": "stdout"
        },
        {
          "output_type": "execute_result",
          "data": {
            "text/plain": [
              "30"
            ]
          },
          "metadata": {
            "tags": []
          },
          "execution_count": 26
        }
      ]
    },
    {
      "cell_type": "code",
      "metadata": {
        "id": "85gHVwFyWNV-"
      },
      "source": [
        "# 우선순위: scary가 작을수록 우선순위가 있고, \r\n",
        "# greedy: 현 상태에서 scary 최소 인원을 만족하면 답 1 증가\r\n",
        "def solution(n,scary):\r\n",
        "  answer=cnt = 0\r\n",
        "  scary.sort()\r\n",
        "  for i in range(0,len(scary)):\r\n",
        "    cnt+=1\r\n",
        "    if cnt >= scary[i]:\r\n",
        "      cnt=0\r\n",
        "      answer+=1\r\n",
        "      continue\r\n",
        "  return answer"
      ],
      "execution_count": 25,
      "outputs": []
    },
    {
      "cell_type": "code",
      "metadata": {
        "id": "oS7KsG-jAuo6"
      },
      "source": [
        "scary = [2,3,1,2,2,63,4]"
      ],
      "execution_count": 26,
      "outputs": []
    },
    {
      "cell_type": "code",
      "metadata": {
        "id": "n7gl2dXcA0G_",
        "outputId": "51164bc7-a734-4fd2-baab-83165c8e1f13",
        "colab": {
          "base_uri": "https://localhost:8080/"
        }
      },
      "source": [
        "solution(len(scary),scary)"
      ],
      "execution_count": 27,
      "outputs": [
        {
          "output_type": "execute_result",
          "data": {
            "text/plain": [
              "2"
            ]
          },
          "metadata": {
            "tags": []
          },
          "execution_count": 27
        }
      ]
    },
    {
      "cell_type": "code",
      "metadata": {
        "id": "FFZIdxplDKBb"
      },
      "source": [
        "def solution(knight):\r\n",
        "  row = list(range(1,9))\r\n",
        "  col = ['a','b','c','d','e','f','g','h']\r\n",
        "  knight_col = col.index(knight[0])\r\n",
        "  knight_row = row.index(int(knight[1]))\r\n",
        "  move_row=[2,1,-1,-2,-2,-1,1,2]\r\n",
        "  move_col=[-1,-2,-2,-1,1,2,2,1]\r\n",
        "  answer=0\r\n",
        "  for mr, mc in zip(move_row, move_col):\r\n",
        "    if knight_col-mc<0 or knight_col+mc>=8 or knight_row-mr<0 or knight_row+mr>=8:\r\n",
        "      continue\r\n",
        "    answer+=1\r\n",
        "  return answer"
      ],
      "execution_count": 52,
      "outputs": []
    },
    {
      "cell_type": "code",
      "metadata": {
        "id": "1_-x0lERKSvW",
        "outputId": "d5b0dce5-43fc-45cf-93ac-74cdee0a43a3",
        "colab": {
          "base_uri": "https://localhost:8080/"
        }
      },
      "source": [
        "solution('c2')"
      ],
      "execution_count": 53,
      "outputs": [
        {
          "output_type": "execute_result",
          "data": {
            "text/plain": [
              "6"
            ]
          },
          "metadata": {
            "tags": []
          },
          "execution_count": 53
        }
      ]
    },
    {
      "cell_type": "code",
      "metadata": {
        "id": "_iAItQozKT5p"
      },
      "source": [
        "def solution(S):\r\n",
        "  alphabet= []\r\n",
        "  nums =0\r\n",
        "  for s in S:\r\n",
        "    if 'A'<=s and s<='Z':\r\n",
        "      alphabet.append(s)\r\n",
        "    else:\r\n",
        "      nums+=int(s)\r\n",
        "  alphabet.sort()\r\n",
        "  return ''.join(alphabet)+str(nums)"
      ],
      "execution_count": 54,
      "outputs": []
    },
    {
      "cell_type": "code",
      "metadata": {
        "id": "QWBq1DlIOFMD",
        "outputId": "931cd094-090e-49ea-9c51-bbb29614f3dd",
        "colab": {
          "base_uri": "https://localhost:8080/",
          "height": 35
        }
      },
      "source": [
        "solution('K1KA5CB7')"
      ],
      "execution_count": 55,
      "outputs": [
        {
          "output_type": "execute_result",
          "data": {
            "application/vnd.google.colaboratory.intrinsic+json": {
              "type": "string"
            },
            "text/plain": [
              "'ABCKK13'"
            ]
          },
          "metadata": {
            "tags": []
          },
          "execution_count": 55
        }
      ]
    },
    {
      "cell_type": "code",
      "metadata": {
        "id": "p-prrFFzOJZD"
      },
      "source": [
        ""
      ],
      "execution_count": null,
      "outputs": []
    },
    {
      "cell_type": "code",
      "metadata": {
        "id": "gY-cCudZOWJn"
      },
      "source": [
        ""
      ],
      "execution_count": null,
      "outputs": []
    }
  ]
}