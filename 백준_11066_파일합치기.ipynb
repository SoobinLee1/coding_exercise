{
  "nbformat": 4,
  "nbformat_minor": 0,
  "metadata": {
    "colab": {
      "name": "백준_11066_파일합치기",
      "provenance": [],
      "authorship_tag": "ABX9TyPCUWryeEa3HttaClQgKLio"
    },
    "kernelspec": {
      "name": "python3",
      "display_name": "Python 3"
    }
  },
  "cells": [
    {
      "cell_type": "markdown",
      "metadata": {
        "id": "2x7o-lqHUqwR"
      },
      "source": [
        "간격 별로 나누어 2차원 dp를 푸는 방식으로 접근한다."
      ]
    },
    {
      "cell_type": "markdown",
      "metadata": {
        "id": "3d3VyoszWAKT"
      },
      "source": [
        "처음에는 start를 고정해서 start에서 gap을 늘려가면서 접근하려고 했었다. 예를들어 start가 0이었고, gap이 2였다면 0 ~ 2, 2 ~ 5 이렇게 나누어 dp할 수있을 것이다. 하지만 이렇게 되면 문제가 2~5여기에서 start가 2가 되므로 차례로 1이 증가되는 start의 특징 상 아직 start=2인 dp는 0으로 초기화되어 있는 상태이므로 재귀로 돌려야만 진짜 start=2인 dp값을 구할 수 있다. 재귀는 dfs를 제외하고는 최대한 지양하는 것이 좋다고 생각하기 때문에 구조를 조금 바꿀 필요가 있어보인다."
      ]
    },
    {
      "cell_type": "markdown",
      "metadata": {
        "id": "6Lad0W5fWftD"
      },
      "source": [
        "따라서 아래와 같은 방식으로 접근하면 논리적 미스 없이 문제를 풀 수있다."
      ]
    },
    {
      "cell_type": "markdown",
      "metadata": {
        "id": "p2-Pgl1dZOow"
      },
      "source": [
        "![image.png](data:image/png;base64,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)"
      ]
    },
    {
      "cell_type": "code",
      "metadata": {
        "id": "KLpw1hrGZvp5",
        "colab": {
          "base_uri": "https://localhost:8080/"
        },
        "outputId": "a84b73f8-befe-44d1-e0e3-15e053c86ba5"
      },
      "source": [
        "import math\r\n",
        "\r\n",
        "T = int(input())\r\n",
        "for t in range(T):\r\n",
        "  N = int(input())\r\n",
        "  arr = list(map(int, input().split(\" \")))\r\n",
        "  dp = [[0]*N for _ in range(N)]\r\n",
        "  accum_sum = [0]\r\n",
        "  for a in arr:\r\n",
        "    accum_sum.append(accum_sum[-1]+a)\r\n",
        "\r\n",
        "  print(accum_sum)\r\n",
        "  for end_gap in range(1,N):\r\n",
        "    for start in range(N-end_gap):\r\n",
        "      end = start+end_gap\r\n",
        "      dp[start][end]=math.inf\r\n",
        "      for k in range(start,end):\r\n",
        "        dp[start][end]=min(dp[start][end], dp[start][k]+dp[k+1][end]\r\n",
        "                           +accum_sum[end+1]-accum_sum[start])\r\n",
        "  print(dp[0][-1])"
      ],
      "execution_count": 17,
      "outputs": [
        {
          "output_type": "stream",
          "text": [
            "1\n",
            "4\n",
            "40 30 30 50\n",
            "[0, 40, 70, 100, 150]\n",
            "300\n"
          ],
          "name": "stdout"
        }
      ]
    },
    {
      "cell_type": "code",
      "metadata": {
        "id": "otOV5aFpi223"
      },
      "source": [
        ""
      ],
      "execution_count": null,
      "outputs": []
    }
  ]
}