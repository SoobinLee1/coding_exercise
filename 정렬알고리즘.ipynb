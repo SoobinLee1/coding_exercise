{
  "nbformat": 4,
  "nbformat_minor": 0,
  "metadata": {
    "colab": {
      "name": "정렬알고리즘.ipynb",
      "provenance": [],
      "authorship_tag": "ABX9TyMluQ24gYtVRb4uGBO+cYnF",
      "include_colab_link": true
    },
    "kernelspec": {
      "name": "python3",
      "display_name": "Python 3"
    }
  },
  "cells": [
    {
      "cell_type": "markdown",
      "metadata": {
        "id": "view-in-github",
        "colab_type": "text"
      },
      "source": [
        "<a href=\"https://colab.research.google.com/github/SoobinLee1/coding_exercise/blob/main/%EC%A0%95%EB%A0%AC%EC%95%8C%EA%B3%A0%EB%A6%AC%EC%A6%98.ipynb\" target=\"_parent\"><img src=\"https://colab.research.google.com/assets/colab-badge.svg\" alt=\"Open In Colab\"/></a>"
      ]
    },
    {
      "cell_type": "markdown",
      "metadata": {
        "id": "IxggXe9azMeD"
      },
      "source": [
        "# 선택 정렬 알고리즘"
      ]
    },
    {
      "cell_type": "markdown",
      "metadata": {
        "id": "FzA6j0AGy4Bq"
      },
      "source": [
        "선택 정렬을 직접 구현하여 동작하게 하는 것보다는 전반적으로 정렬 라이브러리 .sort()로 푸는 것이 훨씬 좋다! 하지만 개념을 정리하기 위해 선택정렬에 대한 내용을 배우긴 함"
      ]
    },
    {
      "cell_type": "code",
      "metadata": {
        "id": "dWWhP30QtPZO"
      },
      "source": [
        "array = [5,7,9,0,4,1,2,5,3,8]\r\n",
        "\r\n",
        "def quick_sort(array):\r\n",
        "  if len(array)<=1:\r\n",
        "    return array\r\n",
        "  pivot = array[0]\r\n",
        "  tail = array[1:]\r\n",
        "\r\n",
        "  left_side = [x for x in tail if x<= pivot]\r\n",
        "  right_side=[x for x in tail if x>pivot]\r\n",
        "\r\n",
        "  return quick_sort(left_side)+[pivot]+quick_sort(right_side)"
      ],
      "execution_count": 1,
      "outputs": []
    },
    {
      "cell_type": "code",
      "metadata": {
        "colab": {
          "base_uri": "https://localhost:8080/"
        },
        "id": "xsYEVLmfwd0m",
        "outputId": "1454b514-5196-4af4-d4a8-461b88af1c94"
      },
      "source": [
        "[1]+[3]+[43]"
      ],
      "execution_count": 2,
      "outputs": [
        {
          "output_type": "execute_result",
          "data": {
            "text/plain": [
              "[1, 3, 43]"
            ]
          },
          "metadata": {
            "tags": []
          },
          "execution_count": 2
        }
      ]
    },
    {
      "cell_type": "code",
      "metadata": {
        "id": "fpflp_iKwfsU"
      },
      "source": [
        "# 동일한 값을 가지는 데이터가 여러 개 등장할 때 사용하면 좋을 알고리즘\r\n",
        "\r\n",
        "def coef_sort(array):\r\n",
        "  count = [0]*(max(array)+1)\r\n",
        "  \r\n",
        "  for i in range(len(array)):\r\n",
        "    count[array[i]]+=1\r\n",
        "\r\n",
        "  for i in range(len(count)):\r\n",
        "    for j in range(count[i]):\r\n",
        "      print(i, end=\" \")"
      ],
      "execution_count": 3,
      "outputs": []
    },
    {
      "cell_type": "code",
      "metadata": {
        "colab": {
          "base_uri": "https://localhost:8080/"
        },
        "id": "3jvWS2xCyRzC",
        "outputId": "57db9bdd-d1af-4369-bbf5-f6d469f120f2"
      },
      "source": [
        "coef_sort([4,6,3,4,22,4,1,2,7,8,87,7])"
      ],
      "execution_count": 4,
      "outputs": [
        {
          "output_type": "stream",
          "text": [
            "1 2 3 4 4 4 6 7 7 8 22 87 "
          ],
          "name": "stdout"
        }
      ]
    },
    {
      "cell_type": "markdown",
      "metadata": {
        "id": "p0_Z6Ro1zRK6"
      },
      "source": [
        "### 예시 문제"
      ]
    },
    {
      "cell_type": "code",
      "metadata": {
        "id": "DfCmcFA6zWNW"
      },
      "source": [
        "def solution(A, B, N, K):\r\n",
        "  A.sort(reverse=False)\r\n",
        "  B.sort(reverse=True)\r\n",
        "  cmp_A = max(A[:K])\r\n",
        "  cnt = 0\r\n",
        "  weighted_sum = 0\r\n",
        "  for b in B[:K]:\r\n",
        "    if b<=cmp_A:\r\n",
        "      break\r\n",
        "    weighted_sum+=b\r\n",
        "    cnt+=1\r\n",
        "  weighted_sum+=sum(A[cnt:])\r\n",
        "  return weighted_sum"
      ],
      "execution_count": 20,
      "outputs": []
    },
    {
      "cell_type": "code",
      "metadata": {
        "colab": {
          "base_uri": "https://localhost:8080/"
        },
        "id": "L8XLnd7e1AV6",
        "outputId": "c159eca8-bd54-4266-9872-fa569363ab98"
      },
      "source": [
        "solution([1,2,3,4,5],[5,5,6,6,5],5,3)"
      ],
      "execution_count": 21,
      "outputs": [
        {
          "output_type": "execute_result",
          "data": {
            "text/plain": [
              "26"
            ]
          },
          "metadata": {
            "tags": []
          },
          "execution_count": 21
        }
      ]
    },
    {
      "cell_type": "code",
      "metadata": {
        "id": "9bUcpPkm1H37"
      },
      "source": [
        ""
      ],
      "execution_count": null,
      "outputs": []
    }
  ]
}