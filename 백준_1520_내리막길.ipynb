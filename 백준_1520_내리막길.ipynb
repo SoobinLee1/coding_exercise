{
  "nbformat": 4,
  "nbformat_minor": 0,
  "metadata": {
    "colab": {
      "name": "백준_1520_내리막길",
      "provenance": [],
      "authorship_tag": "ABX9TyPlKQPguDAGWKDYfdVsk3TW"
    },
    "kernelspec": {
      "name": "python3",
      "display_name": "Python 3"
    }
  },
  "cells": [
    {
      "cell_type": "markdown",
      "metadata": {
        "id": "A96gXnufn99k"
      },
      "source": [
        "## DP + DFS\r\n",
        "\r\n",
        "일단 범위가 작다, 가로/세로 모두 500 이하의 자연수이기 때문에 모든 노드에서 4방향 탐색이 이루어진다고 하면 최대 10^6의 경우의 수 안에 완전 탐색이 가능하다."
      ]
    },
    {
      "cell_type": "markdown",
      "metadata": {
        "id": "6DI63B42qTZ4"
      },
      "source": [
        "visited 여부가 여기서 중요한 요인은 아니다. 방문한 노드를 또 방문할 수있기 때문이다. 다만 dp 형식으로 4방향 중 방문할 수 있는 노드에서 끝까지 dfs를 진행하고 나서 나타날 수있는 return을 더해준다."
      ]
    },
    {
      "cell_type": "code",
      "metadata": {
        "id": "qIE2OfW5n82O"
      },
      "source": [
        "M,N = input().split(\" \")\r\n",
        "maps = [0]*int(M)\r\n",
        "for i in range(int(M)):\r\n",
        "  maps[i] = list(map(int, input().split(\" \")))\r\n",
        "\r\n",
        "dir = [(-1,0),(0,1),(1,0),(0,-1)]\r\n",
        "dp = [[-1]*int(N) for _ in range(int(M))]\r\n",
        "visited = [[False]*int(N) for _ in range(int(M))]\r\n",
        "# for i in range(int(M)):\r\n",
        "#   for j in range(int(N)):\r\n",
        "\r\n",
        "def dfs(i,j):\r\n",
        "  if i == int(M)-1 and j==int(N)-1:\r\n",
        "    return 1\r\n",
        "  if dp[i][j]!=-1:\r\n",
        "    return dp[i][j]\r\n",
        "  dp[i][j] = 0\r\n",
        "  for d in dir:\r\n",
        "    if 0>i+d[0] or i+d[0]>=int(N):\r\n",
        "      continue\r\n",
        "    if 0>j+d[1] or j+d[1]>=int(M):\r\n",
        "      continue\r\n",
        "    if maps[i][j]>maps[i+d[0]][j+d[1]] and visited[i+d[0]][j+d[1]]==False:\r\n",
        "      dp[i][j]+=dfs(i+d[0], j+d[1])\r\n",
        "  return dp[i][j]\r\n",
        "\r\n",
        "dfs(0,0)"
      ],
      "execution_count": null,
      "outputs": []
    }
  ]
}