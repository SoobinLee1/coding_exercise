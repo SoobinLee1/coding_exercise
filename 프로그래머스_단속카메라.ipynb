{
  "nbformat": 4,
  "nbformat_minor": 0,
  "metadata": {
    "colab": {
      "name": "프로그래머스_단속카메라.ipynb",
      "provenance": [],
      "collapsed_sections": [],
      "authorship_tag": "ABX9TyNKbs9kH0o2xu8/esuHiHhg"
    },
    "kernelspec": {
      "name": "python3",
      "display_name": "Python 3"
    }
  },
  "cells": [
    {
      "cell_type": "code",
      "metadata": {
        "id": "cqzrqS3r73wa"
      },
      "source": [
        "def solution(routes):\r\n",
        "    answer = 0\r\n",
        "    # start, end = min(routes, key = lambda x: x[0])[0],max(routes, key = lambda x: x[1])[1]\r\n",
        "    routes.sort(key = lambda x: x[1])\r\n",
        "    \r\n",
        "    while routes:\r\n",
        "        st = routes.pop(0)\r\n",
        "        pop_list = []\r\n",
        "        for r in routes:\r\n",
        "            if r[0]<=st[1]:\r\n",
        "                pop_list.append(r)\r\n",
        "        answer += 1\r\n",
        "        for p in pop_list:\r\n",
        "            routes.remove(p)\r\n",
        "    return answer"
      ],
      "execution_count": null,
      "outputs": []
    }
  ]
}