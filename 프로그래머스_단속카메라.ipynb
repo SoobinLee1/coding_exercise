{
  "nbformat": 4,
  "nbformat_minor": 0,
  "metadata": {
    "colab": {
      "name": "프로그래머스_단속카메라.ipynb",
      "provenance": [],
      "collapsed_sections": [],
      "authorship_tag": "ABX9TyNVS6XGf2S9NXy7lxJ+Kk9Y",
      "include_colab_link": true
    },
    "kernelspec": {
      "name": "python3",
      "display_name": "Python 3"
    }
  },
  "cells": [
    {
      "cell_type": "markdown",
      "metadata": {
        "id": "view-in-github",
        "colab_type": "text"
      },
      "source": [
        "<a href=\"https://colab.research.google.com/github/SoobinLee1/coding_exercise/blob/main/%ED%94%84%EB%A1%9C%EA%B7%B8%EB%9E%98%EB%A8%B8%EC%8A%A4_%EB%8B%A8%EC%86%8D%EC%B9%B4%EB%A9%94%EB%9D%BC.ipynb\" target=\"_parent\"><img src=\"https://colab.research.google.com/assets/colab-badge.svg\" alt=\"Open In Colab\"/></a>"
      ]
    },
    {
      "cell_type": "code",
      "metadata": {
        "id": "cqzrqS3r73wa"
      },
      "source": [
        "def solution(routes):\r\n",
        "    answer = 0\r\n",
        "    # start, end = min(routes, key = lambda x: x[0])[0],max(routes, key = lambda x: x[1])[1]\r\n",
        "    visited = [0]*len(routes)\r\n",
        "    routes.map(lambda x)\r\n",
        "    routes.sort(key = lambda x: x[2])\r\n",
        "    while routes:\r\n",
        "        st = routes.pop(0)\r\n",
        "        cnt = 1\r\n",
        "        for r in routes:\r\n",
        "            if r[0]<=st[1]:\r\n",
        "                cnt+=1\r\n",
        "        if answer < cnt:\r\n",
        "            answer= cnt\r\n",
        "    return answer"
      ],
      "execution_count": null,
      "outputs": []
    }
  ]
}